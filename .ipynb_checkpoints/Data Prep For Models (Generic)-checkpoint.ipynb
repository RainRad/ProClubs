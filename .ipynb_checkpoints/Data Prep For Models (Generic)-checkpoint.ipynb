{
 "cells": [
  {
   "cell_type": "code",
   "execution_count": 1,
   "id": "52c36272",
   "metadata": {},
   "outputs": [],
   "source": [
    "import pandas as pd\n",
    "import matplotlib.pyplot as plt\n",
    "from sklearn.model_selection import train_test_split\n",
    "from sklearn.preprocessing import StandardScaler, MinMaxScaler, LabelEncoder\n",
    "from sklearn.metrics import confusion_matrix, classification_report\n",
    "from sklearn.ensemble import RandomForestClassifier\n",
    "import numpy as np"
   ]
  },
  {
   "cell_type": "code",
   "execution_count": 2,
   "id": "93f8b3c0",
   "metadata": {},
   "outputs": [
    {
     "data": {
      "text/html": [
       "<div>\n",
       "<style scoped>\n",
       "    .dataframe tbody tr th:only-of-type {\n",
       "        vertical-align: middle;\n",
       "    }\n",
       "\n",
       "    .dataframe tbody tr th {\n",
       "        vertical-align: top;\n",
       "    }\n",
       "\n",
       "    .dataframe thead th {\n",
       "        text-align: right;\n",
       "    }\n",
       "</style>\n",
       "<table border=\"1\" class=\"dataframe\">\n",
       "  <thead>\n",
       "    <tr style=\"text-align: right;\">\n",
       "      <th></th>\n",
       "      <th>pull_time</th>\n",
       "      <th>game_id</th>\n",
       "      <th>console</th>\n",
       "      <th>winning_club</th>\n",
       "      <th>h_club</th>\n",
       "      <th>h_club_id</th>\n",
       "      <th>h_goals</th>\n",
       "      <th>h_shots</th>\n",
       "      <th>h_shot_percent</th>\n",
       "      <th>h_passes_made</th>\n",
       "      <th>...</th>\n",
       "      <th>opp_tackle_percent</th>\n",
       "      <th>opp_red_cards</th>\n",
       "      <th>opp_players_in_match</th>\n",
       "      <th>opp_forward</th>\n",
       "      <th>opp_midfielder</th>\n",
       "      <th>opp_defender</th>\n",
       "      <th>opp_goalkeeper</th>\n",
       "      <th>opp_any</th>\n",
       "      <th>opp_season</th>\n",
       "      <th>opp_round</th>\n",
       "    </tr>\n",
       "  </thead>\n",
       "  <tbody>\n",
       "    <tr>\n",
       "      <th>0</th>\n",
       "      <td>2023-03-21 05:02:18</td>\n",
       "      <td>15695788211</td>\n",
       "      <td>xboxone</td>\n",
       "      <td>Draw</td>\n",
       "      <td>Bang Average FC</td>\n",
       "      <td>1940614</td>\n",
       "      <td>1</td>\n",
       "      <td>6</td>\n",
       "      <td>0.17</td>\n",
       "      <td>95</td>\n",
       "      <td>...</td>\n",
       "      <td>0.18</td>\n",
       "      <td>0</td>\n",
       "      <td>5</td>\n",
       "      <td>2</td>\n",
       "      <td>3</td>\n",
       "      <td>0</td>\n",
       "      <td>0</td>\n",
       "      <td>0</td>\n",
       "      <td>2</td>\n",
       "      <td>11</td>\n",
       "    </tr>\n",
       "    <tr>\n",
       "      <th>1</th>\n",
       "      <td>2023-03-21 05:02:18</td>\n",
       "      <td>1940614259</td>\n",
       "      <td>xboxone</td>\n",
       "      <td>Bang Average FC</td>\n",
       "      <td>Bang Average FC</td>\n",
       "      <td>1940614</td>\n",
       "      <td>5</td>\n",
       "      <td>13</td>\n",
       "      <td>0.38</td>\n",
       "      <td>92</td>\n",
       "      <td>...</td>\n",
       "      <td>0.31</td>\n",
       "      <td>1</td>\n",
       "      <td>10</td>\n",
       "      <td>2</td>\n",
       "      <td>3</td>\n",
       "      <td>4</td>\n",
       "      <td>1</td>\n",
       "      <td>0</td>\n",
       "      <td>8</td>\n",
       "      <td>96</td>\n",
       "    </tr>\n",
       "    <tr>\n",
       "      <th>2</th>\n",
       "      <td>2023-03-21 05:02:18</td>\n",
       "      <td>7612049113</td>\n",
       "      <td>xboxone</td>\n",
       "      <td>punjabi panther</td>\n",
       "      <td>Bang Average FC</td>\n",
       "      <td>1940614</td>\n",
       "      <td>1</td>\n",
       "      <td>7</td>\n",
       "      <td>0.14</td>\n",
       "      <td>99</td>\n",
       "      <td>...</td>\n",
       "      <td>0.47</td>\n",
       "      <td>0</td>\n",
       "      <td>6</td>\n",
       "      <td>2</td>\n",
       "      <td>4</td>\n",
       "      <td>0</td>\n",
       "      <td>0</td>\n",
       "      <td>0</td>\n",
       "      <td>1</td>\n",
       "      <td>13</td>\n",
       "    </tr>\n",
       "    <tr>\n",
       "      <th>3</th>\n",
       "      <td>2023-03-21 05:02:18</td>\n",
       "      <td>19406141058</td>\n",
       "      <td>xboxone</td>\n",
       "      <td>Draw</td>\n",
       "      <td>Bang Average FC</td>\n",
       "      <td>1940614</td>\n",
       "      <td>1</td>\n",
       "      <td>11</td>\n",
       "      <td>0.09</td>\n",
       "      <td>154</td>\n",
       "      <td>...</td>\n",
       "      <td>0.13</td>\n",
       "      <td>0</td>\n",
       "      <td>9</td>\n",
       "      <td>3</td>\n",
       "      <td>2</td>\n",
       "      <td>3</td>\n",
       "      <td>1</td>\n",
       "      <td>0</td>\n",
       "      <td>8</td>\n",
       "      <td>58</td>\n",
       "    </tr>\n",
       "    <tr>\n",
       "      <th>4</th>\n",
       "      <td>2023-03-21 05:02:18</td>\n",
       "      <td>8369654865</td>\n",
       "      <td>xboxone</td>\n",
       "      <td>Bang Average FC</td>\n",
       "      <td>Bang Average FC</td>\n",
       "      <td>1940614</td>\n",
       "      <td>3</td>\n",
       "      <td>13</td>\n",
       "      <td>0.23</td>\n",
       "      <td>118</td>\n",
       "      <td>...</td>\n",
       "      <td>0.23</td>\n",
       "      <td>0</td>\n",
       "      <td>11</td>\n",
       "      <td>2</td>\n",
       "      <td>5</td>\n",
       "      <td>3</td>\n",
       "      <td>1</td>\n",
       "      <td>0</td>\n",
       "      <td>8</td>\n",
       "      <td>65</td>\n",
       "    </tr>\n",
       "  </tbody>\n",
       "</table>\n",
       "<p>5 rows × 44 columns</p>\n",
       "</div>"
      ],
      "text/plain": [
       "             pull_time      game_id  console     winning_club  \\\n",
       "0  2023-03-21 05:02:18  15695788211  xboxone             Draw   \n",
       "1  2023-03-21 05:02:18   1940614259  xboxone  Bang Average FC   \n",
       "2  2023-03-21 05:02:18   7612049113  xboxone  punjabi panther   \n",
       "3  2023-03-21 05:02:18  19406141058  xboxone             Draw   \n",
       "4  2023-03-21 05:02:18   8369654865  xboxone  Bang Average FC   \n",
       "\n",
       "            h_club  h_club_id  h_goals  h_shots  h_shot_percent  \\\n",
       "0  Bang Average FC    1940614        1        6            0.17   \n",
       "1  Bang Average FC    1940614        5       13            0.38   \n",
       "2  Bang Average FC    1940614        1        7            0.14   \n",
       "3  Bang Average FC    1940614        1       11            0.09   \n",
       "4  Bang Average FC    1940614        3       13            0.23   \n",
       "\n",
       "   h_passes_made  ...  opp_tackle_percent  opp_red_cards  \\\n",
       "0             95  ...                0.18              0   \n",
       "1             92  ...                0.31              1   \n",
       "2             99  ...                0.47              0   \n",
       "3            154  ...                0.13              0   \n",
       "4            118  ...                0.23              0   \n",
       "\n",
       "   opp_players_in_match  opp_forward  opp_midfielder  opp_defender  \\\n",
       "0                     5            2               3             0   \n",
       "1                    10            2               3             4   \n",
       "2                     6            2               4             0   \n",
       "3                     9            3               2             3   \n",
       "4                    11            2               5             3   \n",
       "\n",
       "   opp_goalkeeper  opp_any  opp_season  opp_round  \n",
       "0               0        0           2         11  \n",
       "1               1        0           8         96  \n",
       "2               0        0           1         13  \n",
       "3               1        0           8         58  \n",
       "4               1        0           8         65  \n",
       "\n",
       "[5 rows x 44 columns]"
      ]
     },
     "execution_count": 2,
     "metadata": {},
     "output_type": "execute_result"
    }
   ],
   "source": [
    "# Import Match Data CSV\n",
    "match_data = pd.read_csv(\"match_list_33150.csv\")\n",
    "match_data.head()"
   ]
  },
  {
   "cell_type": "code",
   "execution_count": 3,
   "id": "9d2ac599",
   "metadata": {},
   "outputs": [
    {
     "data": {
      "text/plain": [
       "Index(['pull_time', 'game_id', 'console', 'winning_club', 'h_club',\n",
       "       'h_club_id', 'h_goals', 'h_shots', 'h_shot_percent', 'h_passes_made',\n",
       "       'h_pass_attempts', 'h_pass_percent', 'h_tackles_made',\n",
       "       'h_tackle_attempts', 'h_tackle_percent', 'h_red_cards',\n",
       "       'h_players_in_match', 'h_forward', 'h_midfielder', 'h_defender',\n",
       "       'h_goalkeeper', 'h_any', 'h_season', 'h_round', 'opp_club',\n",
       "       'opp_club_id', 'opp_goals', 'opp_shots', 'opp_shot_percent',\n",
       "       'opp_passes_made', 'opp_pass_attempts', 'opp_pass_percent',\n",
       "       'opp_tackles_made', 'opp_tackle_attempts', 'opp_tackle_percent',\n",
       "       'opp_red_cards', 'opp_players_in_match', 'opp_forward',\n",
       "       'opp_midfielder', 'opp_defender', 'opp_goalkeeper', 'opp_any',\n",
       "       'opp_season', 'opp_round'],\n",
       "      dtype='object')"
      ]
     },
     "execution_count": 3,
     "metadata": {},
     "output_type": "execute_result"
    }
   ],
   "source": [
    "# List columns\n",
    "\n",
    "match_data.columns"
   ]
  },
  {
   "cell_type": "code",
   "execution_count": 4,
   "id": "81a2c9d0",
   "metadata": {},
   "outputs": [],
   "source": [
    "# Given that the df provided effectively duplicate columns (one for the home team, and one for the away team), \n",
    "# we will strip split the match data in half (for home/away) and then merge it back together to provide \n",
    "# A single unified df 2x in lenghth. \n",
    "\n",
    "h_club_matches = match_data[['winning_club', 'h_club',\n",
    "       'h_goals', 'h_shots', 'h_shot_percent', 'h_passes_made',\n",
    "       'h_pass_attempts', 'h_pass_percent', 'h_tackles_made',\n",
    "       'h_tackle_attempts', 'h_tackle_percent', 'h_red_cards',\n",
    "       'h_players_in_match', 'h_forward', 'h_midfielder', 'h_defender',\n",
    "       'h_goalkeeper', 'h_any',]]\n",
    "\n",
    "opp_club_matches = match_data[['winning_club','opp_club',\n",
    "       'opp_goals', 'opp_shots', 'opp_shot_percent',\n",
    "       'opp_passes_made', 'opp_pass_attempts', 'opp_pass_percent',\n",
    "       'opp_tackles_made', 'opp_tackle_attempts', 'opp_tackle_percent',\n",
    "       'opp_red_cards', 'opp_players_in_match', 'opp_forward',\n",
    "       'opp_midfielder', 'opp_defender', 'opp_goalkeeper', 'opp_any']]"
   ]
  },
  {
   "cell_type": "code",
   "execution_count": 5,
   "id": "e7590e02",
   "metadata": {},
   "outputs": [
    {
     "name": "stdout",
     "output_type": "stream",
     "text": [
      "18\n",
      "18\n"
     ]
    }
   ],
   "source": [
    "print(len(h_club_matches.columns))\n",
    "print(len(opp_club_matches.columns))"
   ]
  },
  {
   "cell_type": "code",
   "execution_count": 6,
   "id": "f83af099",
   "metadata": {},
   "outputs": [
    {
     "name": "stdout",
     "output_type": "stream",
     "text": [
      "33150\n",
      "33150\n",
      "66300\n"
     ]
    },
    {
     "data": {
      "text/html": [
       "<div>\n",
       "<style scoped>\n",
       "    .dataframe tbody tr th:only-of-type {\n",
       "        vertical-align: middle;\n",
       "    }\n",
       "\n",
       "    .dataframe tbody tr th {\n",
       "        vertical-align: top;\n",
       "    }\n",
       "\n",
       "    .dataframe thead th {\n",
       "        text-align: right;\n",
       "    }\n",
       "</style>\n",
       "<table border=\"1\" class=\"dataframe\">\n",
       "  <thead>\n",
       "    <tr style=\"text-align: right;\">\n",
       "      <th></th>\n",
       "      <th>win</th>\n",
       "      <th>club</th>\n",
       "      <th>goals</th>\n",
       "      <th>shots</th>\n",
       "      <th>shot_percent</th>\n",
       "      <th>passes_made</th>\n",
       "      <th>pass_attempts</th>\n",
       "      <th>pass_percent</th>\n",
       "      <th>tackles_made</th>\n",
       "      <th>tackle_attempts</th>\n",
       "      <th>tackle_percent</th>\n",
       "      <th>red_cards</th>\n",
       "      <th>players_in_match</th>\n",
       "      <th>forwards</th>\n",
       "      <th>midfielders</th>\n",
       "      <th>defenders</th>\n",
       "      <th>goalkeeper</th>\n",
       "      <th>any</th>\n",
       "    </tr>\n",
       "  </thead>\n",
       "  <tbody>\n",
       "    <tr>\n",
       "      <th>0</th>\n",
       "      <td>Draw</td>\n",
       "      <td>Bang Average FC</td>\n",
       "      <td>1</td>\n",
       "      <td>6</td>\n",
       "      <td>0.17</td>\n",
       "      <td>95</td>\n",
       "      <td>125</td>\n",
       "      <td>0.76</td>\n",
       "      <td>18</td>\n",
       "      <td>49</td>\n",
       "      <td>0.37</td>\n",
       "      <td>0</td>\n",
       "      <td>8</td>\n",
       "      <td>2</td>\n",
       "      <td>3</td>\n",
       "      <td>3</td>\n",
       "      <td>0</td>\n",
       "      <td>0</td>\n",
       "    </tr>\n",
       "    <tr>\n",
       "      <th>1</th>\n",
       "      <td>Bang Average FC</td>\n",
       "      <td>Bang Average FC</td>\n",
       "      <td>5</td>\n",
       "      <td>13</td>\n",
       "      <td>0.38</td>\n",
       "      <td>92</td>\n",
       "      <td>120</td>\n",
       "      <td>0.77</td>\n",
       "      <td>13</td>\n",
       "      <td>29</td>\n",
       "      <td>0.45</td>\n",
       "      <td>0</td>\n",
       "      <td>8</td>\n",
       "      <td>2</td>\n",
       "      <td>3</td>\n",
       "      <td>3</td>\n",
       "      <td>0</td>\n",
       "      <td>0</td>\n",
       "    </tr>\n",
       "    <tr>\n",
       "      <th>2</th>\n",
       "      <td>punjabi panther</td>\n",
       "      <td>Bang Average FC</td>\n",
       "      <td>1</td>\n",
       "      <td>7</td>\n",
       "      <td>0.14</td>\n",
       "      <td>99</td>\n",
       "      <td>124</td>\n",
       "      <td>0.80</td>\n",
       "      <td>17</td>\n",
       "      <td>65</td>\n",
       "      <td>0.26</td>\n",
       "      <td>0</td>\n",
       "      <td>10</td>\n",
       "      <td>2</td>\n",
       "      <td>4</td>\n",
       "      <td>4</td>\n",
       "      <td>0</td>\n",
       "      <td>0</td>\n",
       "    </tr>\n",
       "    <tr>\n",
       "      <th>3</th>\n",
       "      <td>Draw</td>\n",
       "      <td>Bang Average FC</td>\n",
       "      <td>1</td>\n",
       "      <td>11</td>\n",
       "      <td>0.09</td>\n",
       "      <td>154</td>\n",
       "      <td>195</td>\n",
       "      <td>0.79</td>\n",
       "      <td>16</td>\n",
       "      <td>41</td>\n",
       "      <td>0.39</td>\n",
       "      <td>0</td>\n",
       "      <td>11</td>\n",
       "      <td>2</td>\n",
       "      <td>4</td>\n",
       "      <td>4</td>\n",
       "      <td>1</td>\n",
       "      <td>0</td>\n",
       "    </tr>\n",
       "    <tr>\n",
       "      <th>4</th>\n",
       "      <td>Bang Average FC</td>\n",
       "      <td>Bang Average FC</td>\n",
       "      <td>3</td>\n",
       "      <td>13</td>\n",
       "      <td>0.23</td>\n",
       "      <td>118</td>\n",
       "      <td>145</td>\n",
       "      <td>0.81</td>\n",
       "      <td>10</td>\n",
       "      <td>43</td>\n",
       "      <td>0.23</td>\n",
       "      <td>0</td>\n",
       "      <td>10</td>\n",
       "      <td>2</td>\n",
       "      <td>4</td>\n",
       "      <td>4</td>\n",
       "      <td>0</td>\n",
       "      <td>0</td>\n",
       "    </tr>\n",
       "  </tbody>\n",
       "</table>\n",
       "</div>"
      ],
      "text/plain": [
       "               win             club  goals  shots  shot_percent  passes_made  \\\n",
       "0             Draw  Bang Average FC      1      6          0.17           95   \n",
       "1  Bang Average FC  Bang Average FC      5     13          0.38           92   \n",
       "2  punjabi panther  Bang Average FC      1      7          0.14           99   \n",
       "3             Draw  Bang Average FC      1     11          0.09          154   \n",
       "4  Bang Average FC  Bang Average FC      3     13          0.23          118   \n",
       "\n",
       "   pass_attempts  pass_percent  tackles_made  tackle_attempts  tackle_percent  \\\n",
       "0            125          0.76            18               49            0.37   \n",
       "1            120          0.77            13               29            0.45   \n",
       "2            124          0.80            17               65            0.26   \n",
       "3            195          0.79            16               41            0.39   \n",
       "4            145          0.81            10               43            0.23   \n",
       "\n",
       "   red_cards  players_in_match  forwards  midfielders  defenders  goalkeeper  \\\n",
       "0          0                 8         2            3          3           0   \n",
       "1          0                 8         2            3          3           0   \n",
       "2          0                10         2            4          4           0   \n",
       "3          0                11         2            4          4           1   \n",
       "4          0                10         2            4          4           0   \n",
       "\n",
       "   any  \n",
       "0    0  \n",
       "1    0  \n",
       "2    0  \n",
       "3    0  \n",
       "4    0  "
      ]
     },
     "execution_count": 6,
     "metadata": {},
     "output_type": "execute_result"
    }
   ],
   "source": [
    "hcm_renamed = h_club_matches.rename(columns={'winning_club':\"win\", 'h_club':\"club\",\n",
    "       'h_goals':\"goals\", 'h_shots':\"shots\", 'h_shot_percent':\"shot_percent\", 'h_passes_made':\"passes_made\",\n",
    "       'h_pass_attempts':\"pass_attempts\", 'h_pass_percent':\"pass_percent\", 'h_tackles_made':\"tackles_made\",\n",
    "       'h_tackle_attempts':\"tackle_attempts\", 'h_tackle_percent':\"tackle_percent\", 'h_red_cards':\"red_cards\",\n",
    "       'h_players_in_match':\"players_in_match\", 'h_forward':\"forwards\", 'h_midfielder':\"midfielders\", 'h_defender':\"defenders\",\n",
    "       'h_goalkeeper':\"goalkeeper\", 'h_any':\"any\"})\n",
    "\n",
    "opp_renamed = opp_club_matches.rename(columns={'winning_club':\"win\", 'opp_club':\"club\",\n",
    "       'opp_goals':\"goals\", 'opp_shots':\"shots\", 'opp_shot_percent':\"shot_percent\", 'opp_passes_made':\"passes_made\",\n",
    "       'opp_pass_attempts':\"pass_attempts\", 'opp_pass_percent':\"pass_percent\", 'opp_tackles_made':\"tackles_made\",\n",
    "       'opp_tackle_attempts':\"tackle_attempts\", 'opp_tackle_percent':\"tackle_percent\", 'opp_red_cards':\"red_cards\",\n",
    "       'opp_players_in_match':\"players_in_match\", 'opp_forward':\"forwards\", 'opp_midfielder':\"midfielders\", 'opp_defender':\"defenders\",\n",
    "       'opp_goalkeeper':\"goalkeeper\", 'opp_any':\"any\"})\n",
    "\n",
    "print(len(hcm_renamed))\n",
    "print(len(opp_renamed))\n",
    "unified_match_data = hcm_renamed.append(opp_renamed)\n",
    "print(len(unified_match_data))\n",
    "unified_match_data.head()"
   ]
  },
  {
   "cell_type": "code",
   "execution_count": 7,
   "id": "001b3b6e",
   "metadata": {},
   "outputs": [],
   "source": [
    "\n",
    "unified_match_data['result'] = np.where(unified_match_data.club == unified_match_data.win, 1, 0)\n",
    "unified_match_data = unified_match_data.reset_index() \n",
    "unified_match_data = unified_match_data.drop(['club', 'index', 'win'], axis=1)"
   ]
  },
  {
   "cell_type": "code",
   "execution_count": 8,
   "id": "e4073096",
   "metadata": {},
   "outputs": [
    {
     "data": {
      "text/plain": [
       "66297"
      ]
     },
     "execution_count": 8,
     "metadata": {},
     "output_type": "execute_result"
    }
   ],
   "source": [
    "len(unified_match_data)\n",
    "unified_match_data = unified_match_data[np.isfinite(unified_match_data).all(1)]\n",
    "len(unified_match_data)"
   ]
  },
  {
   "cell_type": "code",
   "execution_count": 9,
   "id": "61dde1e3",
   "metadata": {},
   "outputs": [],
   "source": [
    "X = unified_match_data.drop(\"result\", axis=1)\n",
    "y = unified_match_data.result"
   ]
  },
  {
   "cell_type": "code",
   "execution_count": 10,
   "id": "36d04c48",
   "metadata": {},
   "outputs": [],
   "source": [
    "X_train, X_test, y_train, y_test = train_test_split(X, y)"
   ]
  },
  {
   "cell_type": "code",
   "execution_count": 11,
   "id": "5f296a3b",
   "metadata": {},
   "outputs": [],
   "source": [
    "# scaler = StandardScaler()\n",
    "# scaler.fit(X_train)\n",
    "# X_train_scaled = scaler.transform(X_train)\n",
    "# X_test_scaled = scaler.transform(X_test)"
   ]
  },
  {
   "cell_type": "code",
   "execution_count": 19,
   "id": "c1ca6453",
   "metadata": {},
   "outputs": [],
   "source": [
    "classifier = RandomForestClassifier(n_estimators=500, criterion ='entropy', random_state = 1)"
   ]
  },
  {
   "cell_type": "code",
   "execution_count": 20,
   "id": "43c41826",
   "metadata": {},
   "outputs": [
    {
     "data": {
      "text/plain": [
       "RandomForestClassifier(criterion='entropy', n_estimators=500, random_state=1)"
      ]
     },
     "execution_count": 20,
     "metadata": {},
     "output_type": "execute_result"
    }
   ],
   "source": [
    "classifier.fit(X_train, y_train)"
   ]
  },
  {
   "cell_type": "code",
   "execution_count": 21,
   "id": "f11c4c18",
   "metadata": {},
   "outputs": [
    {
     "data": {
      "text/plain": [
       "array([0, 0, 0, ..., 0, 0, 0])"
      ]
     },
     "execution_count": 21,
     "metadata": {},
     "output_type": "execute_result"
    }
   ],
   "source": [
    "y_pred = classifier.predict(X_test)\n",
    "y_pred"
   ]
  },
  {
   "cell_type": "code",
   "execution_count": 22,
   "id": "0489702c",
   "metadata": {},
   "outputs": [
    {
     "name": "stdout",
     "output_type": "stream",
     "text": [
      "[[8183 1574]\n",
      " [1775 5043]]\n"
     ]
    }
   ],
   "source": [
    "from sklearn.metrics import confusion_matrix, classification_report, accuracy_score\n",
    "cm = confusion_matrix(y_test, y_pred)\n",
    "print(cm)"
   ]
  },
  {
   "cell_type": "code",
   "execution_count": 23,
   "id": "0cff3588",
   "metadata": {},
   "outputs": [
    {
     "data": {
      "text/plain": [
       "0.7979487179487179"
      ]
     },
     "execution_count": 23,
     "metadata": {},
     "output_type": "execute_result"
    }
   ],
   "source": [
    "accuracy_score(y_test, y_pred)"
   ]
  },
  {
   "cell_type": "code",
   "execution_count": 18,
   "id": "de06cdef",
   "metadata": {},
   "outputs": [
    {
     "name": "stdout",
     "output_type": "stream",
     "text": [
      "              precision    recall  f1-score   support\n",
      "\n",
      "           0       0.82      0.84      0.83      9757\n",
      "           1       0.76      0.73      0.74      6818\n",
      "\n",
      "    accuracy                           0.79     16575\n",
      "   macro avg       0.79      0.78      0.79     16575\n",
      "weighted avg       0.79      0.79      0.79     16575\n",
      "\n"
     ]
    }
   ],
   "source": [
    "print(classification_report(y_test, y_pred))"
   ]
  },
  {
   "cell_type": "code",
   "execution_count": 24,
   "id": "1f82e077",
   "metadata": {},
   "outputs": [
    {
     "data": {
      "text/plain": [
       "array([0.20622879, 0.06946915, 0.14965313, 0.08712473, 0.09397049,\n",
       "       0.07565335, 0.04788574, 0.07717852, 0.074145  , 0.00739928,\n",
       "       0.031086  , 0.02484983, 0.02912315, 0.01259136, 0.00624529,\n",
       "       0.00739619])"
      ]
     },
     "execution_count": 24,
     "metadata": {},
     "output_type": "execute_result"
    }
   ],
   "source": [
    "classifier.feature_importances_"
   ]
  },
  {
   "cell_type": "code",
   "execution_count": 25,
   "id": "f370b025",
   "metadata": {},
   "outputs": [
    {
     "data": {
      "text/plain": [
       "Index(['goals', 'shots', 'shot_percent', 'passes_made', 'pass_attempts',\n",
       "       'pass_percent', 'tackles_made', 'tackle_attempts', 'tackle_percent',\n",
       "       'red_cards', 'players_in_match', 'forwards', 'midfielders', 'defenders',\n",
       "       'goalkeeper', 'any'],\n",
       "      dtype='object')"
      ]
     },
     "execution_count": 25,
     "metadata": {},
     "output_type": "execute_result"
    }
   ],
   "source": [
    "X_train.columns"
   ]
  },
  {
   "cell_type": "code",
   "execution_count": 26,
   "id": "c3fdcb17",
   "metadata": {},
   "outputs": [],
   "source": [
    "importance = classifier.feature_importances_\n",
    "columns = X_train.columns"
   ]
  },
  {
   "cell_type": "code",
   "execution_count": 27,
   "id": "4d2ee6a6",
   "metadata": {},
   "outputs": [
    {
     "data": {
      "text/plain": [
       "goals               0.206229\n",
       "shots               0.069469\n",
       "shot_percent        0.149653\n",
       "passes_made         0.087125\n",
       "pass_attempts       0.093970\n",
       "pass_percent        0.075653\n",
       "tackles_made        0.047886\n",
       "tackle_attempts     0.077179\n",
       "tackle_percent      0.074145\n",
       "red_cards           0.007399\n",
       "players_in_match    0.031086\n",
       "forwards            0.024850\n",
       "midfielders         0.029123\n",
       "defenders           0.012591\n",
       "goalkeeper          0.006245\n",
       "any                 0.007396\n",
       "dtype: float64"
      ]
     },
     "execution_count": 27,
     "metadata": {},
     "output_type": "execute_result"
    }
   ],
   "source": [
    "combined_features = pd.Series(importance, columns)\n",
    "combined_features"
   ]
  },
  {
   "cell_type": "code",
   "execution_count": 28,
   "id": "a498c54c",
   "metadata": {},
   "outputs": [
    {
     "data": {
      "image/png": "[encoded data removed]",
      "text/plain": [
       "<Figure size 576x432 with 1 Axes>"
      ]
     },
     "metadata": {
      "needs_background": "light"
     },
     "output_type": "display_data"
    }
   ],
   "source": [
    "from matplotlib import pyplot as plt\n",
    "pandas_plot = combined_features.plot.bar(figsize=(8,6), color='b', fontsize = 12)\n",
    "plt.xlabel(\"importance\", fontsize = 12)\n",
    "plt.ylabel(\"columns\", fontsize = 12)\n",
    "plt.title(\"Important Contributors\", fontsize = 18)\n",
    "plt.tight_layout()\n",
    "plt.show()"
   ]
  },
  {
   "cell_type": "code",
   "execution_count": null,
   "id": "6e830833",
   "metadata": {},
   "outputs": [],
   "source": []
  }
 ],
 "metadata": {
  "kernelspec": {
   "display_name": "PythonData",
   "language": "python",
   "name": "pythondata"
  },
  "language_info": {
   "codemirror_mode": {
    "name": "ipython",
    "version": 3
   },
   "file_extension": ".py",
   "mimetype": "text/x-python",
   "name": "python",
   "nbconvert_exporter": "python",
   "pygments_lexer": "ipython3",
   "version": "3.7.7"
  }
 },
 "nbformat": 4,
 "nbformat_minor": 5
}
