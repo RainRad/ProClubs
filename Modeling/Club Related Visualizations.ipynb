{
 "cells": [
  {
   "cell_type": "code",
   "execution_count": 1,
   "id": "8eff4cf1",
   "metadata": {},
   "outputs": [
    {
     "name": "stderr",
     "output_type": "stream",
     "text": [
      "C:\\Users\\cjrad\\Anaconda3\\envs\\PythonData\\lib\\site-packages\\numpy\\__init__.py:140: UserWarning: mkl-service package failed to import, therefore Intel(R) MKL initialization ensuring its correct out-of-the box operation under condition when Gnu OpenMP had already been loaded by Python process is not assured. Please install mkl-service package, see http://github.com/IntelPython/mkl-service\n",
      "  from . import _distributor_init\n"
     ]
    },
    {
     "ename": "ImportError",
     "evalue": "Unable to import required dependencies:\nnumpy: \n\nIMPORTANT: PLEASE READ THIS FOR ADVICE ON HOW TO SOLVE THIS ISSUE!\n\nImporting the numpy C-extensions failed. This error can happen for\nmany reasons, often due to issues with your setup or how NumPy was\ninstalled.\n\nWe have compiled some common reasons and troubleshooting tips at:\n\n    https://numpy.org/devdocs/user/troubleshooting-importerror.html\n\nPlease note and check the following:\n\n  * The Python version is: Python3.7 from \"C:\\Users\\cjrad\\Anaconda3\\envs\\PythonData\\python.exe\"\n  * The NumPy version is: \"1.18.5\"\n\nand make sure that they are the versions you expect.\nPlease carefully study the documentation linked above for further help.\n\nOriginal error was: DLL load failed: The specified module could not be found.\n",
     "output_type": "error",
     "traceback": [
      "\u001b[1;31m---------------------------------------------------------------------------\u001b[0m",
      "\u001b[1;31mImportError\u001b[0m                               Traceback (most recent call last)",
      "\u001b[1;32m~\\AppData\\Local\\Temp\\ipykernel_10972\\3343728003.py\u001b[0m in \u001b[0;36m<module>\u001b[1;34m\u001b[0m\n\u001b[1;32m----> 1\u001b[1;33m \u001b[1;32mimport\u001b[0m \u001b[0mpandas\u001b[0m \u001b[1;32mas\u001b[0m \u001b[0mpd\u001b[0m\u001b[1;33m\u001b[0m\u001b[1;33m\u001b[0m\u001b[0m\n\u001b[0m\u001b[0;32m      2\u001b[0m \u001b[1;32mimport\u001b[0m \u001b[0mmatplotlib\u001b[0m\u001b[1;33m.\u001b[0m\u001b[0mpyplot\u001b[0m \u001b[1;32mas\u001b[0m \u001b[0mplt\u001b[0m\u001b[1;33m\u001b[0m\u001b[1;33m\u001b[0m\u001b[0m\n\u001b[0;32m      3\u001b[0m \u001b[1;32mimport\u001b[0m \u001b[0mnumpy\u001b[0m \u001b[1;32mas\u001b[0m \u001b[0mnp\u001b[0m\u001b[1;33m\u001b[0m\u001b[1;33m\u001b[0m\u001b[0m\n\u001b[0;32m      4\u001b[0m \u001b[1;32mimport\u001b[0m \u001b[0msys\u001b[0m\u001b[1;33m\u001b[0m\u001b[1;33m\u001b[0m\u001b[0m\n\u001b[0;32m      5\u001b[0m \u001b[0msys\u001b[0m\u001b[1;33m.\u001b[0m\u001b[0mpath\u001b[0m\u001b[1;33m.\u001b[0m\u001b[0minsert\u001b[0m\u001b[1;33m(\u001b[0m\u001b[1;36m0\u001b[0m\u001b[1;33m,\u001b[0m \u001b[1;34m'../Resources'\u001b[0m\u001b[1;33m)\u001b[0m\u001b[1;33m\u001b[0m\u001b[1;33m\u001b[0m\u001b[0m\n",
      "\u001b[1;32m~\\Anaconda3\\envs\\PythonData\\lib\\site-packages\\pandas\\__init__.py\u001b[0m in \u001b[0;36m<module>\u001b[1;34m\u001b[0m\n\u001b[0;32m     15\u001b[0m \u001b[1;32mif\u001b[0m \u001b[0mmissing_dependencies\u001b[0m\u001b[1;33m:\u001b[0m\u001b[1;33m\u001b[0m\u001b[1;33m\u001b[0m\u001b[0m\n\u001b[0;32m     16\u001b[0m     raise ImportError(\n\u001b[1;32m---> 17\u001b[1;33m         \u001b[1;34m\"Unable to import required dependencies:\\n\"\u001b[0m \u001b[1;33m+\u001b[0m \u001b[1;34m\"\\n\"\u001b[0m\u001b[1;33m.\u001b[0m\u001b[0mjoin\u001b[0m\u001b[1;33m(\u001b[0m\u001b[0mmissing_dependencies\u001b[0m\u001b[1;33m)\u001b[0m\u001b[1;33m\u001b[0m\u001b[1;33m\u001b[0m\u001b[0m\n\u001b[0m\u001b[0;32m     18\u001b[0m     )\n\u001b[0;32m     19\u001b[0m \u001b[1;32mdel\u001b[0m \u001b[0mhard_dependencies\u001b[0m\u001b[1;33m,\u001b[0m \u001b[0mdependency\u001b[0m\u001b[1;33m,\u001b[0m \u001b[0mmissing_dependencies\u001b[0m\u001b[1;33m\u001b[0m\u001b[1;33m\u001b[0m\u001b[0m\n",
      "\u001b[1;31mImportError\u001b[0m: Unable to import required dependencies:\nnumpy: \n\nIMPORTANT: PLEASE READ THIS FOR ADVICE ON HOW TO SOLVE THIS ISSUE!\n\nImporting the numpy C-extensions failed. This error can happen for\nmany reasons, often due to issues with your setup or how NumPy was\ninstalled.\n\nWe have compiled some common reasons and troubleshooting tips at:\n\n    https://numpy.org/devdocs/user/troubleshooting-importerror.html\n\nPlease note and check the following:\n\n  * The Python version is: Python3.7 from \"C:\\Users\\cjrad\\Anaconda3\\envs\\PythonData\\python.exe\"\n  * The NumPy version is: \"1.18.5\"\n\nand make sure that they are the versions you expect.\nPlease carefully study the documentation linked above for further help.\n\nOriginal error was: DLL load failed: The specified module could not be found.\n"
     ]
    }
   ],
   "source": [
    "import pandas as pd\n",
    "import matplotlib.pyplot as plt\n",
    "import numpy as np\n",
    "import sys\n",
    "sys.path.insert(0, '../Resources')\n",
    "import MyFunctionsV4 as mfs"
   ]
  },
  {
   "cell_type": "code",
   "execution_count": null,
   "id": "4477d80a",
   "metadata": {},
   "outputs": [],
   "source": [
    "club_link = '../CollectedData/club_list_47422.csv'\n",
    "club_df = pd.read_csv(club_link)"
   ]
  },
  {
   "cell_type": "code",
   "execution_count": null,
   "id": "2f62a5a0",
   "metadata": {},
   "outputs": [],
   "source": [
    "club_df_trimmed = club_df[['division','total_games', 'wins', 'losses', 'draws', 'goals_scored',\n",
    "       'goals_per_match', 'goals_conceded', 'goals_conceded_per_match',\n",
    "       'goal_difference', 'promotions', 'holds', 'relegations',\n",
    "       'best_season_div', 'best_season_points', 'total_rank_points',\n",
    "       'league_points', 'div_1_titles', 'other_div_titles',\n",
    "       'total_trophies']]\n"
   ]
  },
  {
   "cell_type": "code",
   "execution_count": null,
   "id": "fe66eae9",
   "metadata": {
    "scrolled": true
   },
   "outputs": [],
   "source": [
    "club_df_divisions = club_df.groupby('division').count()\n",
    "fig, ax = plt.subplots(figsize=(15, 10))\n",
    "bars = club_df_divisions.plot(kind='bar', y='wins', ax=ax, legend=False)\n",
    "ax.set_title('Number of Clubs Per Division in Dataset')\n",
    "ax.set_xlabel('Division')\n",
    "ax.set_ylabel('Count')\n",
    "\n",
    "# Rotate the x-tick labels by 90 degrees and make them integers\n",
    "ax.set_xticklabels(club_df_divisions.index.astype(int), rotation=0)\n",
    "\n",
    "# Add value labels above each bar\n",
    "for rect in bars.patches:\n",
    "    height = rect.get_height()\n",
    "    ax.annotate(f'{height}', xy=(rect.get_x() + rect.get_width() / 2, height),\n",
    "                xytext=(0, 3), textcoords=\"offset points\", ha='center', va='bottom')\n",
    "\n",
    "ax.set_facecolor('white')\n",
    "plt.savefig(f\"../Visualizations/Clubs per Division.jpg\", bbox_inches='tight')"
   ]
  },
  {
   "cell_type": "code",
   "execution_count": null,
   "id": "e097efbe",
   "metadata": {},
   "outputs": [],
   "source": [
    "# calculate the net goals difference per match\n",
    "club_df_trimmed[\"net_goals_difference_per_match\"] = club_df_trimmed['goals_per_match'] - club_df_trimmed['goals_conceded_per_match']\n",
    "\n",
    "# group by division and calculate the mean for the net_goals_difference_per_match column\n",
    "grouped_df = club_df_trimmed.groupby('division')[\"net_goals_difference_per_match\"].mean()\n",
    "\n",
    "# slice the dataframe to only the first seven rows\n",
    "grouped_df_sliced = grouped_df.iloc[:7]\n",
    "\n",
    "# plot a bar chart for each column\n",
    "ax = grouped_df_sliced.plot(kind='bar', width=0.8, figsize=(15, 10), rot=0)\n",
    "ax.set_xticklabels(grouped_df_sliced.index.astype(int), rotation=0)\n",
    "ax.set_xlabel('Division')\n",
    "\n",
    "# add value labels for each bar\n",
    "for p in ax.patches:\n",
    "    ax.annotate(str(round(p.get_height(), 2)), \n",
    "                xy=(p.get_x() + p.get_width() / 2, p.get_height()),\n",
    "                xytext=(0, 5), \n",
    "                textcoords='offset points', \n",
    "                ha='center', va='bottom')\n",
    "\n",
    "# set title and legend\n",
    "ax.set_facecolor('white')\n",
    "plt.title('Average Goals Scored - Average Goals Conceded (Per Match) - Division 1-7')\n",
    "plt.savefig(f\"../Visualizations/Average Goals Scored or Conceded Per Match.jpg\", bbox_inches='tight')"
   ]
  },
  {
   "cell_type": "code",
   "execution_count": null,
   "id": "9995ddc9",
   "metadata": {},
   "outputs": [],
   "source": [
    "# group by division and calculate the mean for the total_games column\n",
    "grouped_df = club_df_trimmed.groupby('division')[\"total_games\"].mean()\n",
    "\n",
    "# slice the dataframe to only the first seven rows\n",
    "grouped_df_sliced = grouped_df.iloc[:]\n",
    "\n",
    "# plot a bar chart for each column\n",
    "ax = grouped_df_sliced.plot(kind='bar', width=0.8, figsize=(15, 10), rot=0)\n",
    "ax.set_xticklabels(grouped_df_sliced.index.astype(int), rotation=0)\n",
    "ax.set_xlabel('Division')\n",
    "\n",
    "# add value labels for each bar\n",
    "for p in ax.patches:\n",
    "    ax.annotate(str(int(round(p.get_height()))), \n",
    "                xy=(p.get_x() + p.get_width() / 2, p.get_height()),\n",
    "                xytext=(0, 5), \n",
    "                textcoords='offset points', \n",
    "                ha='center', va='bottom')\n",
    "\n",
    "# set title and legend\n",
    "ax.set_facecolor('white')\n",
    "plt.title('Average Games Played by Division')\n",
    "plt.savefig(f\"../Visualizations/Average Games Played by Division.jpg\", bbox_inches='tight')"
   ]
  },
  {
   "cell_type": "code",
   "execution_count": null,
   "id": "ae2f3174",
   "metadata": {},
   "outputs": [],
   "source": [
    "# # group by division and get the mean values\n",
    "# grouped = club_df_trimmed.groupby('division').mean()\n",
    "\n",
    "# # select the columns to stack\n",
    "# stack_cols = ['wins', 'losses', 'draws']\n",
    "\n",
    "# # calculate the total for each division\n",
    "# totals = grouped[stack_cols].sum(axis=1)\n",
    "\n",
    "# # calculate the percentage of each value\n",
    "# stacked_data = grouped[stack_cols].apply(lambda x: x/totals)\n",
    "\n",
    "# # round the values to two significant figures\n",
    "# stacked_data = stacked_data.round(2)\n",
    "\n",
    "# # create the stacked bar chart with a size of 10,8\n",
    "# stacked_data.plot(kind='bar', stacked=True, figsize=(10, 8))\n",
    "\n",
    "# # add the total values above the bars\n",
    "# # for i, v in enumerate(totals):\n",
    "# #     plt.text(i, v+2, str(round(v, 2)), ha='center')\n",
    "\n",
    "# # set the title and axis labels\n",
    "# plt.title('Wins, Losses, and Draws by Division')\n",
    "# plt.xlabel('Division')\n",
    "# plt.ylabel('Total')\n",
    "# plt.show()\n"
   ]
  },
  {
   "cell_type": "code",
   "execution_count": null,
   "id": "c9327f93",
   "metadata": {},
   "outputs": [],
   "source": [
    "# totals"
   ]
  },
  {
   "cell_type": "code",
   "execution_count": null,
   "id": "9e23da60",
   "metadata": {},
   "outputs": [],
   "source": [
    "# stacked_data "
   ]
  },
  {
   "cell_type": "code",
   "execution_count": null,
   "id": "67cd81f7",
   "metadata": {},
   "outputs": [],
   "source": []
  }
 ],
 "metadata": {
  "kernelspec": {
   "display_name": "PythonData",
   "language": "python",
   "name": "pythondata"
  },
  "language_info": {
   "codemirror_mode": {
    "name": "ipython",
    "version": 3
   },
   "file_extension": ".py",
   "mimetype": "text/x-python",
   "name": "python",
   "nbconvert_exporter": "python",
   "pygments_lexer": "ipython3",
   "version": "3.7.7"
  }
 },
 "nbformat": 4,
 "nbformat_minor": 5
}
