{
 "cells": [
  {
   "cell_type": "code",
   "execution_count": 1,
   "id": "ff788306",
   "metadata": {},
   "outputs": [],
   "source": [
    "import requests\n",
    "from bs4 import BeautifulSoup as soup\n",
    "\n",
    "import sys\n",
    "sys.path.insert(0, '../Resources')\n",
    "import MyFunctionsV4 as mfs\n",
    "\n",
    "\n",
    "import os\n",
    "import time\n",
    "import datetime\n",
    "import pandas as pd\n",
    "from bs4 import BeautifulSoup as soup\n",
    "\n",
    "# Debugging\n",
    "from IPython.display import display, clear_output"
   ]
  },
  {
   "cell_type": "code",
   "execution_count": 2,
   "id": "1cfb6fa8",
   "metadata": {},
   "outputs": [],
   "source": [
    "club_link  = '../CollectedData/club_list_47422.csv'\n",
    "match_link = '../CollectedData/match_list_93098.csv'\n",
    "player_link = '../CollectedData/final_player_perform_732302.csv'"
   ]
  },
  {
   "cell_type": "code",
   "execution_count": 3,
   "id": "4a9fd173",
   "metadata": {},
   "outputs": [],
   "source": [
    "matches_df = pd.read_csv(match_link)\n",
    "club_df = pd.read_csv(club_link)\n",
    "player_df = pd.read_csv(player_link)"
   ]
  },
  {
   "cell_type": "code",
   "execution_count": 4,
   "id": "61fe437c",
   "metadata": {},
   "outputs": [],
   "source": [
    "h_clubs = matches_df.h_club_id.rename({'h_club_id':'club_id'})\n",
    "opp_clubs = matches_df.opp_club_id.rename({'opp_club_id':'club_id'})\n",
    "clubs = h_clubs.append(opp_clubs).drop_duplicates()"
   ]
  },
  {
   "cell_type": "code",
   "execution_count": 5,
   "id": "49943391",
   "metadata": {},
   "outputs": [],
   "source": [
    "missing_club = []\n",
    "for index, row in matches_df.iterrows():\n",
    "    if row.opp_club_id not in club_df.club_id.values:\n",
    "        missing_club.append(row.opp_club_id)"
   ]
  },
  {
   "cell_type": "code",
   "execution_count": 6,
   "id": "43e0ef44",
   "metadata": {},
   "outputs": [],
   "source": [
    "matches_df_cleaned = matches_df[~matches_df.opp_club_id.isin(missing_club)]"
   ]
  },
  {
   "cell_type": "code",
   "execution_count": 7,
   "id": "a2fe58bc",
   "metadata": {},
   "outputs": [],
   "source": [
    "matches_df_cleaned_final = matches_df_cleaned.apply(mfs.clean_up, args=(club_df,), axis=1)"
   ]
  },
  {
   "cell_type": "code",
   "execution_count": 8,
   "id": "83c25bea",
   "metadata": {},
   "outputs": [],
   "source": [
    "#Generates and stores current time for later use. \n",
    "current_time = datetime.datetime.now().strftime('%Y-%m-%d %H:%M:%S')"
   ]
  },
  {
   "cell_type": "code",
   "execution_count": 9,
   "id": "b584dd5c",
   "metadata": {},
   "outputs": [],
   "source": [
    "player_df_cleaned_final = player_df[~player_df.club.isin(missing_club)]"
   ]
  },
  {
   "cell_type": "code",
   "execution_count": 10,
   "id": "d4938f93",
   "metadata": {},
   "outputs": [
    {
     "name": "stderr",
     "output_type": "stream",
     "text": [
      "C:\\Users\\cjrad\\Anaconda3\\envs\\PythonData\\lib\\site-packages\\pandas\\core\\frame.py:4913: SettingWithCopyWarning: \n",
      "A value is trying to be set on a copy of a slice from a DataFrame\n",
      "\n",
      "See the caveats in the documentation: https://pandas.pydata.org/pandas-docs/stable/user_guide/indexing.html#returning-a-view-versus-a-copy\n",
      "  errors=errors,\n",
      "C:\\Users\\cjrad\\Anaconda3\\envs\\PythonData\\lib\\site-packages\\pandas\\util\\_decorators.py:311: SettingWithCopyWarning: \n",
      "A value is trying to be set on a copy of a slice from a DataFrame\n",
      "\n",
      "See the caveats in the documentation: https://pandas.pydata.org/pandas-docs/stable/user_guide/indexing.html#returning-a-view-versus-a-copy\n",
      "  return func(*args, **kwargs)\n"
     ]
    }
   ],
   "source": [
    "# Saves the final match list. \n",
    "matches_df_cleaned_final.drop(columns=['pull_time'], inplace = True)\n",
    "matches_df_cleaned_final.drop_duplicates(inplace=True)\n",
    "matches_df_cleaned_final.insert(0, 'pull_time', current_time)\n",
    "matches_df_cleaned_final.to_csv(f'../CollectedData/match_list_{len(matches_df_cleaned_final)}_cleaned.csv', index = False)\n",
    "\n",
    "\n",
    "# Saves the final player performance list. \n",
    "player_df_cleaned_final.drop(columns=['pull_time'], inplace = True)\n",
    "player_df_cleaned_final.drop_duplicates(inplace=True)\n",
    "player_df_cleaned_final.insert(0, 'pull_time', current_time)\n",
    "player_df_cleaned_final.to_csv(f'../CollectedData/final_player_perform_{len(player_df_cleaned_final)}_cleaned.csv', index=False)"
   ]
  },
  {
   "cell_type": "code",
   "execution_count": null,
   "id": "241f7794",
   "metadata": {},
   "outputs": [],
   "source": []
  },
  {
   "cell_type": "code",
   "execution_count": null,
   "id": "6ec73f8b",
   "metadata": {},
   "outputs": [],
   "source": []
  },
  {
   "cell_type": "code",
   "execution_count": null,
   "id": "bfa8e4f9",
   "metadata": {},
   "outputs": [],
   "source": []
  },
  {
   "cell_type": "code",
   "execution_count": null,
   "id": "ceed7fac",
   "metadata": {},
   "outputs": [],
   "source": []
  },
  {
   "cell_type": "code",
   "execution_count": null,
   "id": "b51f54cb",
   "metadata": {},
   "outputs": [],
   "source": []
  },
  {
   "cell_type": "code",
   "execution_count": null,
   "id": "408c0510",
   "metadata": {},
   "outputs": [],
   "source": []
  },
  {
   "cell_type": "code",
   "execution_count": null,
   "id": "94b26440",
   "metadata": {},
   "outputs": [],
   "source": []
  },
  {
   "cell_type": "code",
   "execution_count": null,
   "id": "fe7e2e83",
   "metadata": {},
   "outputs": [],
   "source": []
  },
  {
   "cell_type": "code",
   "execution_count": null,
   "id": "5765950b",
   "metadata": {},
   "outputs": [],
   "source": []
  },
  {
   "cell_type": "code",
   "execution_count": null,
   "id": "8995abc9",
   "metadata": {},
   "outputs": [],
   "source": [
    "\n"
   ]
  }
 ],
 "metadata": {
  "kernelspec": {
   "display_name": "PythonData",
   "language": "python",
   "name": "pythondata"
  },
  "language_info": {
   "codemirror_mode": {
    "name": "ipython",
    "version": 3
   },
   "file_extension": ".py",
   "mimetype": "text/x-python",
   "name": "python",
   "nbconvert_exporter": "python",
   "pygments_lexer": "ipython3",
   "version": "3.7.7"
  }
 },
 "nbformat": 4,
 "nbformat_minor": 5
}
