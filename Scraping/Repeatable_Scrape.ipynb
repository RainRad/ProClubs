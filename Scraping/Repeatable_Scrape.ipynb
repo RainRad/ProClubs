{
 "cells": [
  {
   "cell_type": "code",
   "execution_count": 1,
   "id": "624e5fb6",
   "metadata": {},
   "outputs": [],
   "source": [
    "import requests\n",
    "from bs4 import BeautifulSoup as soup\n",
    "\n",
    "import sys\n",
    "sys.path.insert(0, '../Resources')\n",
    "import MyFunctionsV4 as mfs\n",
    "\n",
    "\n",
    "import os\n",
    "import time\n",
    "import datetime\n",
    "import pandas as pd\n",
    "from bs4 import BeautifulSoup as soup\n",
    "\n",
    "# Debugging\n",
    "from IPython.display import display, clear_output"
   ]
  },
  {
   "cell_type": "code",
   "execution_count": 2,
   "id": "32e862dd",
   "metadata": {},
   "outputs": [],
   "source": [
    "# Link to existing data\n",
    "club_csv_link = '../CollectedData/club_list_22484.csv'\n",
    "match_list_csv_link = '../CollectedData/match_list_35249.csv'\n",
    "player_performance_link = '../CollectedData/final_player_perform_304169.csv'"
   ]
  },
  {
   "cell_type": "code",
   "execution_count": 3,
   "id": "b0550a53",
   "metadata": {},
   "outputs": [],
   "source": [
    "# Import existing club list. \n",
    "existing_club_data = pd.read_csv(club_csv_link)\n",
    "\n",
    "# Convert active to 'No' This will be changed back to 'yes' if the club is found again during the scrape. \n",
    "existing_club_data.active = 'No'\n",
    "\n",
    "# Sets club_id to int from float. \n",
    "existing_club_data['club_id'] = existing_club_data['club_id'].astype('int')\n"
   ]
  },
  {
   "cell_type": "code",
   "execution_count": 4,
   "id": "9dfc7103",
   "metadata": {},
   "outputs": [
    {
     "data": {
      "text/html": [
       "<div>\n",
       "<style scoped>\n",
       "    .dataframe tbody tr th:only-of-type {\n",
       "        vertical-align: middle;\n",
       "    }\n",
       "\n",
       "    .dataframe tbody tr th {\n",
       "        vertical-align: top;\n",
       "    }\n",
       "\n",
       "    .dataframe thead th {\n",
       "        text-align: right;\n",
       "    }\n",
       "</style>\n",
       "<table border=\"1\" class=\"dataframe\">\n",
       "  <thead>\n",
       "    <tr style=\"text-align: right;\">\n",
       "      <th></th>\n",
       "      <th>pull_time</th>\n",
       "      <th>club_name</th>\n",
       "      <th>active</th>\n",
       "      <th>console</th>\n",
       "      <th>club_id</th>\n",
       "      <th>division</th>\n",
       "      <th>ten_match_record</th>\n",
       "      <th>total_games</th>\n",
       "      <th>wins</th>\n",
       "      <th>losses</th>\n",
       "      <th>...</th>\n",
       "      <th>best_season_div</th>\n",
       "      <th>best_season_points</th>\n",
       "      <th>region</th>\n",
       "      <th>stadium</th>\n",
       "      <th>total_rank_points</th>\n",
       "      <th>league_points</th>\n",
       "      <th>cup_points</th>\n",
       "      <th>div_1_titles</th>\n",
       "      <th>other_div_titles</th>\n",
       "      <th>total_trophies</th>\n",
       "    </tr>\n",
       "  </thead>\n",
       "  <tbody>\n",
       "    <tr>\n",
       "      <th>0</th>\n",
       "      <td>2023-04-18 03:43:09</td>\n",
       "      <td>Bang Average FC</td>\n",
       "      <td>No</td>\n",
       "      <td>xboxone</td>\n",
       "      <td>1940614</td>\n",
       "      <td>1.0</td>\n",
       "      <td>WWWWWWWWWW</td>\n",
       "      <td>635.0</td>\n",
       "      <td>495.0</td>\n",
       "      <td>75.0</td>\n",
       "      <td>...</td>\n",
       "      <td>1.0</td>\n",
       "      <td>25.0</td>\n",
       "      <td>British Isles</td>\n",
       "      <td>Estadio Santiago Bernabéu</td>\n",
       "      <td>19045</td>\n",
       "      <td>19045</td>\n",
       "      <td>0</td>\n",
       "      <td>43.0</td>\n",
       "      <td>8.0</td>\n",
       "      <td>51.0</td>\n",
       "    </tr>\n",
       "  </tbody>\n",
       "</table>\n",
       "<p>1 rows × 29 columns</p>\n",
       "</div>"
      ],
      "text/plain": [
       "             pull_time        club_name active  console  club_id  division  \\\n",
       "0  2023-04-18 03:43:09  Bang Average FC     No  xboxone  1940614       1.0   \n",
       "\n",
       "  ten_match_record  total_games   wins  losses  ...  best_season_div  \\\n",
       "0       WWWWWWWWWW        635.0  495.0    75.0  ...              1.0   \n",
       "\n",
       "   best_season_points         region                    stadium  \\\n",
       "0                25.0  British Isles  Estadio Santiago Bernabéu   \n",
       "\n",
       "   total_rank_points  league_points  cup_points  div_1_titles  \\\n",
       "0              19045          19045           0          43.0   \n",
       "\n",
       "   other_div_titles  total_trophies  \n",
       "0               8.0            51.0  \n",
       "\n",
       "[1 rows x 29 columns]"
      ]
     },
     "execution_count": 4,
     "metadata": {},
     "output_type": "execute_result"
    }
   ],
   "source": [
    "existing_club_data.head(1)"
   ]
  },
  {
   "cell_type": "code",
   "execution_count": 5,
   "id": "a5b46283",
   "metadata": {},
   "outputs": [
    {
     "name": "stdout",
     "output_type": "stream",
     "text": [
      "22484/22484\n",
      "113/22484 have failed.\n",
      "Time taken: 33297.77237987518 seconds\n"
     ]
    }
   ],
   "source": [
    "# This interates through the existing list of clubs. Returns three list containing:\n",
    "# Their Matches\n",
    "# Their individual player perforamnces per match. \n",
    "\n",
    "# Debug\n",
    "start_time = time.time()\n",
    "counter = 0\n",
    "fail_counter = 0\n",
    "length = len(existing_club_data)\n",
    "\n",
    "matches = []\n",
    "player_performances = []\n",
    "\n",
    "# Extract the make data, player performance data, and opponent data for all clubs in DB. \n",
    "for index, row in existing_club_data.iterrows():\n",
    "    \n",
    "    console = row['console']\n",
    "    club_id = row['club_id']\n",
    "    club_name = row['club_name']\n",
    "    \n",
    "    match_data, individual_player_perform_data = mfs.last_five_match_scrape(console, club_id, club_name)\n",
    "    matches.extend(match_data)\n",
    "    player_performances.extend(individual_player_perform_data)\n",
    "    \n",
    "    # Debug \n",
    "    clear_output(wait=True)\n",
    "    counter += 1\n",
    "    print(f\"{counter}/{length}\")\n",
    "    if len(match_data) == 0:\n",
    "        fail_counter += 1\n",
    "    print(f\"{fail_counter}/{length} have failed.\")\n",
    "    \n",
    "# Debug\n",
    "end_time = time.time()\n",
    "print(\"Time taken:\", end_time - start_time, \"seconds\")"
   ]
  },
  {
   "cell_type": "code",
   "execution_count": 6,
   "id": "e86e089b",
   "metadata": {},
   "outputs": [],
   "source": [
    "#Generates and stores current time for later use. \n",
    "current_time = datetime.datetime.now().strftime('%Y-%m-%d %H:%M:%S')"
   ]
  },
  {
   "cell_type": "code",
   "execution_count": 7,
   "id": "7f99f840",
   "metadata": {},
   "outputs": [],
   "source": [
    "# Converts the matches list into a DF. \n",
    "# will run the 'Try' so long as the code is provided an original matches csv. \n",
    "# If no csv is given (such as on the first run) it will default to the except. \n",
    "try:\n",
    "    existing_matches = pd.read_csv(match_list_csv_link)\n",
    "    \n",
    "    matches_df = pd.DataFrame(matches)\n",
    "    matches_df.insert(0, 'pull_time', current_time)\n",
    "\n",
    "    matches_df = matches_df.append(existing_matches)\n",
    "    final_matches_df = matches_df.drop_duplicates(subset=['game_id'])\n",
    "\n",
    "except:\n",
    "    matches_df = pd.DataFrame(matches)\n",
    "    matches_df.insert(0, 'pull_time', current_time)\n",
    "    final_matches_df = matches_df.drop_duplicates(subset=['game_id'])"
   ]
  },
  {
   "cell_type": "code",
   "execution_count": 8,
   "id": "50fe6d9c",
   "metadata": {},
   "outputs": [],
   "source": [
    "# This generates the list of clubs to be scraped in the next step. \n",
    "# By gathering a list of all clubs in the matches DF, we ensure the code scrapes all clubs. \n",
    "\n",
    "# Generate DFs containing the console, and club_id for every club in the matches DF. \n",
    "h_clubs = final_matches_df[['console', 'h_club_id']]\n",
    "opp_clubs = final_matches_df[['console', 'opp_club_id']]\n",
    "\n",
    "# Renames columns to prep for joining the two dfs.\n",
    "h_clubs = h_clubs.rename(columns={\"h_club_id\":\"club_id\"})\n",
    "opp_clubs = opp_clubs.rename(columns={\"opp_club_id\":\"club_id\"})\n",
    "\n",
    "# Joins the dfs, removes duplicates. \n",
    "clubs_df = h_clubs.append(opp_clubs)\n",
    "clubs_to_scrape_df = clubs_df.drop_duplicates()"
   ]
  },
  {
   "cell_type": "code",
   "execution_count": 9,
   "id": "d660457a",
   "metadata": {},
   "outputs": [
    {
     "name": "stdout",
     "output_type": "stream",
     "text": [
      "47650/47650.  4398 clubs have been deleted\n",
      "Time taken: 31110.020516872406 seconds\n"
     ]
    }
   ],
   "source": [
    "#  vvv Debug vvv\n",
    "start_time = time.time()\n",
    "length  = len(clubs_to_scrape_df)\n",
    "counter = 0\n",
    "deleted_counter = 0\n",
    "# ^^^ Debug ^^^\n",
    "\n",
    "\n",
    "scraped_club_list = []\n",
    "\n",
    "for index, row in clubs_to_scrape_df.iterrows():\n",
    "    console = row['console']\n",
    "    club_id = row['club_id']\n",
    "    club_data = mfs.club_scrape(console, club_id)\n",
    "    if club_data['division'] > 0:\n",
    "        scraped_club_list.append(club_data)\n",
    "    if club_data['division'] == 0:\n",
    "        #  vvv Debug vvv\n",
    "        deleted_counter += 1\n",
    "\n",
    "#  vvv Debug vvv\n",
    "    clear_output(wait=True)\n",
    "    counter += 1\n",
    "    print(f\"{counter}/{length}.  {deleted_counter} clubs have been deleted\")\n",
    "        \n",
    "#  vvv Debug vvv\n",
    "end_time = time.time()\n",
    "print(\"Time taken:\", end_time - start_time, \"seconds\")"
   ]
  },
  {
   "cell_type": "code",
   "execution_count": 10,
   "id": "d2b85977",
   "metadata": {},
   "outputs": [],
   "source": [
    "# Converts scraped club list to DF. \n",
    "scraped_club_df = pd.DataFrame(scraped_club_list)\n",
    "# # Adds time column. \n",
    "scraped_club_df.insert(0, 'pull_time', current_time)\n",
    "\n",
    "# Updates existing rows in the club_df. \n",
    "scraped_club_df.set_index(['club_id'], inplace = True)\n",
    "existing_club_data.set_index(['club_id'], inplace = True)\n",
    "existing_club_data.update(scraped_club_df)\n",
    "final_club_df = pd.concat([existing_club_data, scraped_club_df[~scraped_club_df.index.isin(existing_club_data.index)]])\n",
    "final_club_df.reset_index(inplace = True)\n",
    "final_club_df = final_club_df[['pull_time', 'club_name', 'active', 'console', 'club_id', 'division',\n",
    "       'ten_match_record', 'total_games', 'wins', 'losses', 'draws',\n",
    "       'goals_scored', 'goals_per_match', 'goals_conceded',\n",
    "       'goals_conceded_per_match', 'goal_difference', 'promotions', 'holds',\n",
    "       'relegations', 'best_season_div', 'best_season_points', 'region',\n",
    "       'stadium', 'total_rank_points', 'league_points', 'cup_points',\n",
    "       'div_1_titles', 'other_div_titles', 'total_trophies']]\n",
    "\n",
    "scraped_club_df = pd.DataFrame(scraped_club_list)\n",
    "final_club_df.update(scraped_club_df)"
   ]
  },
  {
   "cell_type": "code",
   "execution_count": 11,
   "id": "0e3ce197",
   "metadata": {},
   "outputs": [
    {
     "name": "stdout",
     "output_type": "stream",
     "text": [
      "43256\n",
      "43252\n"
     ]
    }
   ],
   "source": [
    "print(len(final_club_df))\n",
    "print(final_club_df.club_id.nunique())"
   ]
  },
  {
   "cell_type": "code",
   "execution_count": 12,
   "id": "17238d39",
   "metadata": {},
   "outputs": [],
   "source": [
    "# This try/except exist to allow the code to run without input player performance data.\n",
    "try:\n",
    "    existing_player_performance = pd.read_csv(player_performance_link)\n",
    "\n",
    "    player_performances_df = pd.DataFrame(player_performances)\n",
    "    player_performances_df.insert(0, 'pull_time', current_time)\n",
    "\n",
    "    player_performances_df = player_performances_df.append(existing_player_performance)\n",
    "    final_player_perform_df = player_performances_df.drop_duplicates()\n",
    "\n",
    "except:\n",
    "    player_performances_df = pd.DataFrame(player_performances)\n",
    "    player_performances_df.insert(0, 'pull_time', current_time)\n",
    "    final_player_perform_df = player_performances_df.drop_duplicates()"
   ]
  },
  {
   "cell_type": "code",
   "execution_count": 13,
   "id": "0be5ccab",
   "metadata": {},
   "outputs": [
    {
     "name": "stderr",
     "output_type": "stream",
     "text": [
      "C:\\Users\\cjrad\\Anaconda3\\envs\\PythonData\\lib\\site-packages\\pandas\\core\\frame.py:4913: SettingWithCopyWarning: \n",
      "A value is trying to be set on a copy of a slice from a DataFrame\n",
      "\n",
      "See the caveats in the documentation: https://pandas.pydata.org/pandas-docs/stable/user_guide/indexing.html#returning-a-view-versus-a-copy\n",
      "  errors=errors,\n",
      "C:\\Users\\cjrad\\Anaconda3\\envs\\PythonData\\lib\\site-packages\\pandas\\util\\_decorators.py:311: SettingWithCopyWarning: \n",
      "A value is trying to be set on a copy of a slice from a DataFrame\n",
      "\n",
      "See the caveats in the documentation: https://pandas.pydata.org/pandas-docs/stable/user_guide/indexing.html#returning-a-view-versus-a-copy\n",
      "  return func(*args, **kwargs)\n"
     ]
    }
   ],
   "source": [
    "# Saves the final club list. \n",
    "final_club_df.drop(columns=['pull_time'], inplace = True)\n",
    "final_club_df.drop_duplicates(inplace=True)\n",
    "final_club_df.insert(0, 'pull_time', current_time)\n",
    "final_club_df.to_csv(f'../CollectedData/club_list_{len(final_club_df)}.csv', index = False)\n",
    "\n",
    "# Saves the final match list. \n",
    "final_matches_df.drop(columns=['pull_time'], inplace = True)\n",
    "final_matches_df.drop_duplicates(inplace=True)\n",
    "final_matches_df.insert(0, 'pull_time', current_time)\n",
    "final_matches_df.to_csv(f'../CollectedData/match_list_{len(final_matches_df)}.csv', index = False)\n",
    "\n",
    "# Saves the final player performance list. \n",
    "final_player_perform_df.drop(columns=['pull_time'], inplace = True)\n",
    "final_player_perform_df.drop_duplicates(inplace=True)\n",
    "final_player_perform_df.insert(0, 'pull_time', current_time)\n",
    "final_player_perform_df.to_csv(f'../CollectedData/final_player_perform_{len(final_player_perform_df)}.csv', index=False)"
   ]
  },
  {
   "cell_type": "code",
   "execution_count": null,
   "id": "d40b165a",
   "metadata": {},
   "outputs": [],
   "source": []
  }
 ],
 "metadata": {
  "kernelspec": {
   "display_name": "PythonData",
   "language": "python",
   "name": "pythondata"
  },
  "language_info": {
   "codemirror_mode": {
    "name": "ipython",
    "version": 3
   },
   "file_extension": ".py",
   "mimetype": "text/x-python",
   "name": "python",
   "nbconvert_exporter": "python",
   "pygments_lexer": "ipython3",
   "version": "3.7.7"
  }
 },
 "nbformat": 4,
 "nbformat_minor": 5
}
