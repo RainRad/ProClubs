{
 "cells": [
  {
   "cell_type": "code",
   "execution_count": 1,
   "id": "a5a371b4",
   "metadata": {},
   "outputs": [],
   "source": [
    "import pandas as pd\n",
    "import matplotlib.pyplot as plt\n",
    "from sklearn.model_selection import train_test_split\n",
    "from sklearn.preprocessing import StandardScaler, MinMaxScaler, LabelEncoder\n",
    "from sklearn.metrics import confusion_matrix, classification_report\n",
    "from sklearn.neighbors import KNeighborsClassifier\n",
    "import numpy as np"
   ]
  },
  {
   "cell_type": "code",
   "execution_count": 2,
   "id": "37404925",
   "metadata": {
    "scrolled": true
   },
   "outputs": [
    {
     "data": {
      "text/html": [
       "<div>\n",
       "<style scoped>\n",
       "    .dataframe tbody tr th:only-of-type {\n",
       "        vertical-align: middle;\n",
       "    }\n",
       "\n",
       "    .dataframe tbody tr th {\n",
       "        vertical-align: top;\n",
       "    }\n",
       "\n",
       "    .dataframe thead th {\n",
       "        text-align: right;\n",
       "    }\n",
       "</style>\n",
       "<table border=\"1\" class=\"dataframe\">\n",
       "  <thead>\n",
       "    <tr style=\"text-align: right;\">\n",
       "      <th></th>\n",
       "      <th>goals</th>\n",
       "      <th>shots</th>\n",
       "      <th>shot_percent</th>\n",
       "      <th>passes_made</th>\n",
       "      <th>pass_attempts</th>\n",
       "      <th>pass_percent</th>\n",
       "      <th>tackles_made</th>\n",
       "      <th>tackle_attempts</th>\n",
       "      <th>tackle_percent</th>\n",
       "      <th>red_cards</th>\n",
       "      <th>players_in_match</th>\n",
       "      <th>forwards</th>\n",
       "      <th>midfielders</th>\n",
       "      <th>defenders</th>\n",
       "      <th>goalkeeper</th>\n",
       "      <th>any</th>\n",
       "      <th>result</th>\n",
       "    </tr>\n",
       "  </thead>\n",
       "  <tbody>\n",
       "    <tr>\n",
       "      <th>0</th>\n",
       "      <td>1</td>\n",
       "      <td>6</td>\n",
       "      <td>0.17</td>\n",
       "      <td>95</td>\n",
       "      <td>125</td>\n",
       "      <td>0.76</td>\n",
       "      <td>18</td>\n",
       "      <td>49</td>\n",
       "      <td>0.37</td>\n",
       "      <td>0</td>\n",
       "      <td>8</td>\n",
       "      <td>2</td>\n",
       "      <td>3</td>\n",
       "      <td>3</td>\n",
       "      <td>0</td>\n",
       "      <td>0</td>\n",
       "      <td>1</td>\n",
       "    </tr>\n",
       "    <tr>\n",
       "      <th>1</th>\n",
       "      <td>5</td>\n",
       "      <td>13</td>\n",
       "      <td>0.38</td>\n",
       "      <td>92</td>\n",
       "      <td>120</td>\n",
       "      <td>0.77</td>\n",
       "      <td>13</td>\n",
       "      <td>29</td>\n",
       "      <td>0.45</td>\n",
       "      <td>0</td>\n",
       "      <td>8</td>\n",
       "      <td>2</td>\n",
       "      <td>3</td>\n",
       "      <td>3</td>\n",
       "      <td>0</td>\n",
       "      <td>0</td>\n",
       "      <td>2</td>\n",
       "    </tr>\n",
       "    <tr>\n",
       "      <th>2</th>\n",
       "      <td>1</td>\n",
       "      <td>7</td>\n",
       "      <td>0.14</td>\n",
       "      <td>99</td>\n",
       "      <td>124</td>\n",
       "      <td>0.80</td>\n",
       "      <td>17</td>\n",
       "      <td>65</td>\n",
       "      <td>0.26</td>\n",
       "      <td>0</td>\n",
       "      <td>10</td>\n",
       "      <td>2</td>\n",
       "      <td>4</td>\n",
       "      <td>4</td>\n",
       "      <td>0</td>\n",
       "      <td>0</td>\n",
       "      <td>0</td>\n",
       "    </tr>\n",
       "    <tr>\n",
       "      <th>3</th>\n",
       "      <td>1</td>\n",
       "      <td>11</td>\n",
       "      <td>0.09</td>\n",
       "      <td>154</td>\n",
       "      <td>195</td>\n",
       "      <td>0.79</td>\n",
       "      <td>16</td>\n",
       "      <td>41</td>\n",
       "      <td>0.39</td>\n",
       "      <td>0</td>\n",
       "      <td>11</td>\n",
       "      <td>2</td>\n",
       "      <td>4</td>\n",
       "      <td>4</td>\n",
       "      <td>1</td>\n",
       "      <td>0</td>\n",
       "      <td>1</td>\n",
       "    </tr>\n",
       "    <tr>\n",
       "      <th>4</th>\n",
       "      <td>3</td>\n",
       "      <td>13</td>\n",
       "      <td>0.23</td>\n",
       "      <td>118</td>\n",
       "      <td>145</td>\n",
       "      <td>0.81</td>\n",
       "      <td>10</td>\n",
       "      <td>43</td>\n",
       "      <td>0.23</td>\n",
       "      <td>0</td>\n",
       "      <td>10</td>\n",
       "      <td>2</td>\n",
       "      <td>4</td>\n",
       "      <td>4</td>\n",
       "      <td>0</td>\n",
       "      <td>0</td>\n",
       "      <td>2</td>\n",
       "    </tr>\n",
       "  </tbody>\n",
       "</table>\n",
       "</div>"
      ],
      "text/plain": [
       "   goals  shots  shot_percent  passes_made  pass_attempts  pass_percent  \\\n",
       "0      1      6          0.17           95            125          0.76   \n",
       "1      5     13          0.38           92            120          0.77   \n",
       "2      1      7          0.14           99            124          0.80   \n",
       "3      1     11          0.09          154            195          0.79   \n",
       "4      3     13          0.23          118            145          0.81   \n",
       "\n",
       "   tackles_made  tackle_attempts  tackle_percent  red_cards  players_in_match  \\\n",
       "0            18               49            0.37          0                 8   \n",
       "1            13               29            0.45          0                 8   \n",
       "2            17               65            0.26          0                10   \n",
       "3            16               41            0.39          0                11   \n",
       "4            10               43            0.23          0                10   \n",
       "\n",
       "   forwards  midfielders  defenders  goalkeeper  any  result  \n",
       "0         2            3          3           0    0       1  \n",
       "1         2            3          3           0    0       2  \n",
       "2         2            4          4           0    0       0  \n",
       "3         2            4          4           1    0       1  \n",
       "4         2            4          4           0    0       2  "
      ]
     },
     "execution_count": 2,
     "metadata": {},
     "output_type": "execute_result"
    }
   ],
   "source": [
    "data = pd.read_csv('model_ready_match_data_multi_class.csv')\n",
    "data.head()"
   ]
  },
  {
   "cell_type": "code",
   "execution_count": 3,
   "id": "16e729cd",
   "metadata": {},
   "outputs": [],
   "source": [
    "X = data.drop(\"result\", axis=1)\n",
    "y = data.result"
   ]
  },
  {
   "cell_type": "code",
   "execution_count": 4,
   "id": "88ca0e2f",
   "metadata": {},
   "outputs": [],
   "source": [
    "X_train, X_test, y_train, y_test = train_test_split(X, y)"
   ]
  },
  {
   "cell_type": "code",
   "execution_count": 5,
   "id": "a247e87b",
   "metadata": {},
   "outputs": [],
   "source": [
    "scaler = StandardScaler().fit(X_train)\n",
    "X_train_scaled = scaler.transform(X_train)\n",
    "X_test_scaled = scaler.transform(X_test)"
   ]
  },
  {
   "cell_type": "code",
   "execution_count": 6,
   "id": "439b5701",
   "metadata": {},
   "outputs": [
    {
     "name": "stdout",
     "output_type": "stream",
     "text": [
      "k: 1, Train/Test Score: 0.997/0.573\n",
      "k: 3, Train/Test Score: 0.778/0.616\n",
      "k: 5, Train/Test Score: 0.741/0.629\n",
      "k: 7, Train/Test Score: 0.728/0.641\n",
      "k: 9, Train/Test Score: 0.718/0.652\n",
      "k: 11, Train/Test Score: 0.713/0.657\n",
      "k: 13, Train/Test Score: 0.710/0.664\n",
      "k: 15, Train/Test Score: 0.707/0.667\n",
      "k: 17, Train/Test Score: 0.704/0.667\n",
      "k: 19, Train/Test Score: 0.702/0.670\n"
     ]
    }
   ],
   "source": [
    "train_scores = []\n",
    "test_scores = []\n",
    "for k in range(1, 20, 2):\n",
    "    knn = KNeighborsClassifier(n_neighbors=k)\n",
    "    knn.fit(X_train_scaled, y_train)\n",
    "    train_score = knn.score(X_train_scaled, y_train)\n",
    "    test_score = knn.score(X_test_scaled, y_test)\n",
    "    train_scores.append(train_score)\n",
    "    test_scores.append(test_score)\n",
    "    print(f\"k: {k}, Train/Test Score: {train_score:.3f}/{test_score:.3f}\")"
   ]
  },
  {
   "cell_type": "code",
   "execution_count": 7,
   "id": "aa282d77",
   "metadata": {},
   "outputs": [
    {
     "data": {
      "image/png": "[encoded data removed]",
      "text/plain": [
       "<Figure size 432x288 with 1 Axes>"
      ]
     },
     "metadata": {
      "needs_background": "light"
     },
     "output_type": "display_data"
    }
   ],
   "source": [
    "# Graph to show identify optimal K value (7)\n",
    "plt.plot(range(1, 20, 2), train_scores, marker='o')\n",
    "plt.plot(range(1, 20, 2), test_scores, marker=\"x\")\n",
    "plt.xlabel(\"k neighbors\")\n",
    "plt.ylabel(\"Testing accuracy score\")\n",
    "plt.show()"
   ]
  },
  {
   "cell_type": "code",
   "execution_count": 9,
   "id": "f89b0d7a",
   "metadata": {},
   "outputs": [
    {
     "name": "stdout",
     "output_type": "stream",
     "text": [
      "k=13 Test Acc: 0.664\n"
     ]
    }
   ],
   "source": [
    "knn_model = KNeighborsClassifier(n_neighbors=13)\n",
    "knn_model.fit(X_train_scaled, y_train)\n",
    "print(\"k=13 Test Acc: %.3f\" % knn_model.score(X_test_scaled, y_test))"
   ]
  },
  {
   "cell_type": "code",
   "execution_count": 10,
   "id": "de3fe346",
   "metadata": {},
   "outputs": [
    {
     "name": "stdout",
     "output_type": "stream",
     "text": [
      "[[5281  352 1223]\n",
      " [1497  323 1107]\n",
      " [1124  261 5407]]\n"
     ]
    }
   ],
   "source": [
    "y_pred_knn = knn_model.predict(X_test_scaled)\n",
    "cm_knn = confusion_matrix(y_test, y_pred_knn)\n",
    "print(cm_knn)"
   ]
  },
  {
   "cell_type": "code",
   "execution_count": 11,
   "id": "6f015940",
   "metadata": {},
   "outputs": [
    {
     "name": "stdout",
     "output_type": "stream",
     "text": [
      "              precision    recall  f1-score   support\n",
      "\n",
      "           0       0.67      0.77      0.72      6856\n",
      "           1       0.35      0.11      0.17      2927\n",
      "           2       0.70      0.80      0.74      6792\n",
      "\n",
      "    accuracy                           0.66     16575\n",
      "   macro avg       0.57      0.56      0.54     16575\n",
      "weighted avg       0.62      0.66      0.63     16575\n",
      "\n"
     ]
    }
   ],
   "source": [
    "print(classification_report(y_test, y_pred_knn))"
   ]
  },
  {
   "cell_type": "code",
   "execution_count": null,
   "id": "a672718a",
   "metadata": {},
   "outputs": [],
   "source": []
  }
 ],
 "metadata": {
  "kernelspec": {
   "display_name": "PythonData",
   "language": "python",
   "name": "pythondata"
  },
  "language_info": {
   "codemirror_mode": {
    "name": "ipython",
    "version": 3
   },
   "file_extension": ".py",
   "mimetype": "text/x-python",
   "name": "python",
   "nbconvert_exporter": "python",
   "pygments_lexer": "ipython3",
   "version": "3.7.7"
  }
 },
 "nbformat": 4,
 "nbformat_minor": 5
}
