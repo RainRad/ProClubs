{
 "cells": [
  {
   "cell_type": "code",
   "execution_count": 1,
   "id": "e4c69097",
   "metadata": {},
   "outputs": [],
   "source": [
    "import pandas as pd\n",
    "import matplotlib.pyplot as plt\n",
    "from sklearn.model_selection import train_test_split\n",
    "from sklearn.preprocessing import StandardScaler, MinMaxScaler, LabelEncoder\n",
    "from sklearn.metrics import confusion_matrix, classification_report\n",
    "from sklearn.neighbors import KNeighborsClassifier\n",
    "import numpy as np"
   ]
  },
  {
   "cell_type": "code",
   "execution_count": 2,
   "id": "3a35d00f",
   "metadata": {
    "scrolled": true
   },
   "outputs": [
    {
     "data": {
      "text/html": [
       "<div>\n",
       "<style scoped>\n",
       "    .dataframe tbody tr th:only-of-type {\n",
       "        vertical-align: middle;\n",
       "    }\n",
       "\n",
       "    .dataframe tbody tr th {\n",
       "        vertical-align: top;\n",
       "    }\n",
       "\n",
       "    .dataframe thead th {\n",
       "        text-align: right;\n",
       "    }\n",
       "</style>\n",
       "<table border=\"1\" class=\"dataframe\">\n",
       "  <thead>\n",
       "    <tr style=\"text-align: right;\">\n",
       "      <th></th>\n",
       "      <th>goals</th>\n",
       "      <th>shots</th>\n",
       "      <th>pass_attempts</th>\n",
       "      <th>pass_percent</th>\n",
       "      <th>tackle_attempts</th>\n",
       "      <th>tackle_percent</th>\n",
       "      <th>red_cards</th>\n",
       "      <th>players_in_match</th>\n",
       "      <th>forwards</th>\n",
       "      <th>midfielders</th>\n",
       "      <th>...</th>\n",
       "      <th>division</th>\n",
       "      <th>goals_per_match</th>\n",
       "      <th>goals_conceded_per_match</th>\n",
       "      <th>rel_div</th>\n",
       "      <th>win_percent</th>\n",
       "      <th>recent_win_average</th>\n",
       "      <th>rel_gpm</th>\n",
       "      <th>rel_gcpm</th>\n",
       "      <th>games_played</th>\n",
       "      <th>result</th>\n",
       "    </tr>\n",
       "  </thead>\n",
       "  <tbody>\n",
       "    <tr>\n",
       "      <th>0</th>\n",
       "      <td>1</td>\n",
       "      <td>6</td>\n",
       "      <td>125</td>\n",
       "      <td>0.76</td>\n",
       "      <td>49</td>\n",
       "      <td>0.37</td>\n",
       "      <td>0</td>\n",
       "      <td>8</td>\n",
       "      <td>2</td>\n",
       "      <td>3</td>\n",
       "      <td>...</td>\n",
       "      <td>1.0</td>\n",
       "      <td>2.63</td>\n",
       "      <td>0.75</td>\n",
       "      <td>0.0</td>\n",
       "      <td>0.770588</td>\n",
       "      <td>2.0</td>\n",
       "      <td>-0.24</td>\n",
       "      <td>-0.57</td>\n",
       "      <td>510.0</td>\n",
       "      <td>0</td>\n",
       "    </tr>\n",
       "    <tr>\n",
       "      <th>1</th>\n",
       "      <td>5</td>\n",
       "      <td>13</td>\n",
       "      <td>120</td>\n",
       "      <td>0.77</td>\n",
       "      <td>29</td>\n",
       "      <td>0.45</td>\n",
       "      <td>0</td>\n",
       "      <td>8</td>\n",
       "      <td>2</td>\n",
       "      <td>3</td>\n",
       "      <td>...</td>\n",
       "      <td>1.0</td>\n",
       "      <td>2.63</td>\n",
       "      <td>0.75</td>\n",
       "      <td>0.0</td>\n",
       "      <td>0.770588</td>\n",
       "      <td>2.0</td>\n",
       "      <td>0.08</td>\n",
       "      <td>-1.56</td>\n",
       "      <td>510.0</td>\n",
       "      <td>1</td>\n",
       "    </tr>\n",
       "    <tr>\n",
       "      <th>2</th>\n",
       "      <td>1</td>\n",
       "      <td>7</td>\n",
       "      <td>124</td>\n",
       "      <td>0.80</td>\n",
       "      <td>65</td>\n",
       "      <td>0.26</td>\n",
       "      <td>0</td>\n",
       "      <td>10</td>\n",
       "      <td>2</td>\n",
       "      <td>4</td>\n",
       "      <td>...</td>\n",
       "      <td>1.0</td>\n",
       "      <td>2.63</td>\n",
       "      <td>0.75</td>\n",
       "      <td>-1.0</td>\n",
       "      <td>0.770588</td>\n",
       "      <td>2.0</td>\n",
       "      <td>0.24</td>\n",
       "      <td>-0.96</td>\n",
       "      <td>510.0</td>\n",
       "      <td>0</td>\n",
       "    </tr>\n",
       "    <tr>\n",
       "      <th>3</th>\n",
       "      <td>1</td>\n",
       "      <td>11</td>\n",
       "      <td>195</td>\n",
       "      <td>0.79</td>\n",
       "      <td>41</td>\n",
       "      <td>0.39</td>\n",
       "      <td>0</td>\n",
       "      <td>11</td>\n",
       "      <td>2</td>\n",
       "      <td>4</td>\n",
       "      <td>...</td>\n",
       "      <td>1.0</td>\n",
       "      <td>2.63</td>\n",
       "      <td>0.75</td>\n",
       "      <td>0.0</td>\n",
       "      <td>0.770588</td>\n",
       "      <td>2.0</td>\n",
       "      <td>0.74</td>\n",
       "      <td>-1.32</td>\n",
       "      <td>510.0</td>\n",
       "      <td>0</td>\n",
       "    </tr>\n",
       "    <tr>\n",
       "      <th>4</th>\n",
       "      <td>3</td>\n",
       "      <td>13</td>\n",
       "      <td>145</td>\n",
       "      <td>0.81</td>\n",
       "      <td>43</td>\n",
       "      <td>0.23</td>\n",
       "      <td>0</td>\n",
       "      <td>10</td>\n",
       "      <td>2</td>\n",
       "      <td>4</td>\n",
       "      <td>...</td>\n",
       "      <td>1.0</td>\n",
       "      <td>2.63</td>\n",
       "      <td>0.75</td>\n",
       "      <td>-1.0</td>\n",
       "      <td>0.770588</td>\n",
       "      <td>2.0</td>\n",
       "      <td>0.32</td>\n",
       "      <td>-1.30</td>\n",
       "      <td>510.0</td>\n",
       "      <td>1</td>\n",
       "    </tr>\n",
       "  </tbody>\n",
       "</table>\n",
       "<p>5 rows × 23 columns</p>\n",
       "</div>"
      ],
      "text/plain": [
       "   goals  shots  pass_attempts  pass_percent  tackle_attempts  tackle_percent  \\\n",
       "0      1      6            125          0.76               49            0.37   \n",
       "1      5     13            120          0.77               29            0.45   \n",
       "2      1      7            124          0.80               65            0.26   \n",
       "3      1     11            195          0.79               41            0.39   \n",
       "4      3     13            145          0.81               43            0.23   \n",
       "\n",
       "   red_cards  players_in_match  forwards  midfielders  ...  division  \\\n",
       "0          0                 8         2            3  ...       1.0   \n",
       "1          0                 8         2            3  ...       1.0   \n",
       "2          0                10         2            4  ...       1.0   \n",
       "3          0                11         2            4  ...       1.0   \n",
       "4          0                10         2            4  ...       1.0   \n",
       "\n",
       "   goals_per_match  goals_conceded_per_match  rel_div  win_percent  \\\n",
       "0             2.63                      0.75      0.0     0.770588   \n",
       "1             2.63                      0.75      0.0     0.770588   \n",
       "2             2.63                      0.75     -1.0     0.770588   \n",
       "3             2.63                      0.75      0.0     0.770588   \n",
       "4             2.63                      0.75     -1.0     0.770588   \n",
       "\n",
       "   recent_win_average  rel_gpm  rel_gcpm  games_played  result  \n",
       "0                 2.0    -0.24     -0.57         510.0       0  \n",
       "1                 2.0     0.08     -1.56         510.0       1  \n",
       "2                 2.0     0.24     -0.96         510.0       0  \n",
       "3                 2.0     0.74     -1.32         510.0       0  \n",
       "4                 2.0     0.32     -1.30         510.0       1  \n",
       "\n",
       "[5 rows x 23 columns]"
      ]
     },
     "execution_count": 2,
     "metadata": {},
     "output_type": "execute_result"
    }
   ],
   "source": [
    "data = pd.read_csv('joined_model_ready_match_data.csv')\n",
    "data.head()"
   ]
  },
  {
   "cell_type": "code",
   "execution_count": 3,
   "id": "91f2d900",
   "metadata": {},
   "outputs": [],
   "source": [
    "X = data.drop(\"result\", axis=1)\n",
    "y = data.result"
   ]
  },
  {
   "cell_type": "code",
   "execution_count": 4,
   "id": "bf6ee490",
   "metadata": {},
   "outputs": [],
   "source": [
    "X_train, X_test, y_train, y_test = train_test_split(X, y)"
   ]
  },
  {
   "cell_type": "code",
   "execution_count": 5,
   "id": "bd696c95",
   "metadata": {},
   "outputs": [],
   "source": [
    "scaler = StandardScaler().fit(X_train)\n",
    "X_train_scaled = scaler.transform(X_train)\n",
    "X_test_scaled = scaler.transform(X_test)"
   ]
  },
  {
   "cell_type": "code",
   "execution_count": 6,
   "id": "eff202c6",
   "metadata": {},
   "outputs": [
    {
     "name": "stdout",
     "output_type": "stream",
     "text": [
      "k: 1, Train/Test Score: 1.000/0.722\n",
      "k: 3, Train/Test Score: 0.872/0.756\n",
      "k: 5, Train/Test Score: 0.847/0.770\n",
      "k: 7, Train/Test Score: 0.837/0.778\n",
      "k: 9, Train/Test Score: 0.832/0.787\n",
      "k: 11, Train/Test Score: 0.827/0.789\n",
      "k: 13, Train/Test Score: 0.825/0.791\n",
      "k: 15, Train/Test Score: 0.823/0.798\n",
      "k: 17, Train/Test Score: 0.821/0.798\n",
      "k: 19, Train/Test Score: 0.820/0.798\n"
     ]
    }
   ],
   "source": [
    "train_scores = []\n",
    "test_scores = []\n",
    "for k in range(1, 20, 2):\n",
    "    knn = KNeighborsClassifier(n_neighbors=k)\n",
    "    knn.fit(X_train_scaled, y_train)\n",
    "    train_score = knn.score(X_train_scaled, y_train)\n",
    "    test_score = knn.score(X_test_scaled, y_test)\n",
    "    train_scores.append(train_score)\n",
    "    test_scores.append(test_score)\n",
    "    print(f\"k: {k}, Train/Test Score: {train_score:.3f}/{test_score:.3f}\")"
   ]
  },
  {
   "cell_type": "code",
   "execution_count": 7,
   "id": "f9d7cdc6",
   "metadata": {},
   "outputs": [
    {
     "data": {
      "image/png": "[encoded data removed]",
      "text/plain": [
       "<Figure size 432x288 with 1 Axes>"
      ]
     },
     "metadata": {
      "needs_background": "light"
     },
     "output_type": "display_data"
    }
   ],
   "source": [
    "# Graph to show identify optimal K value (7)\n",
    "plt.plot(range(1, 20, 2), train_scores, marker='o')\n",
    "plt.plot(range(1, 20, 2), test_scores, marker=\"x\")\n",
    "plt.xlabel(\"k neighbors\")\n",
    "plt.ylabel(\"Testing accuracy score\")\n",
    "plt.show()"
   ]
  },
  {
   "cell_type": "code",
   "execution_count": 8,
   "id": "a8668b48",
   "metadata": {},
   "outputs": [],
   "source": [
    "# knn_model = KNeighborsClassifier(n_neighbors=13)\n",
    "# knn_model.fit(X_train_scaled, y_train)\n",
    "# print(\"k=13 Test Acc: %.3f\" % knn_model.score(X_test_scaled, y_test))"
   ]
  },
  {
   "cell_type": "code",
   "execution_count": 9,
   "id": "20540c64",
   "metadata": {},
   "outputs": [],
   "source": [
    "# y_pred_knn = knn_model.predict(X_test_scaled)\n",
    "# cm_knn = confusion_matrix(y_test, y_pred_knn)\n",
    "# print(cm_knn)"
   ]
  },
  {
   "cell_type": "code",
   "execution_count": 10,
   "id": "d599d7c6",
   "metadata": {},
   "outputs": [],
   "source": [
    "# print(classification_report(y_test, y_pred_knn))"
   ]
  },
  {
   "cell_type": "code",
   "execution_count": null,
   "id": "2a833f91",
   "metadata": {},
   "outputs": [],
   "source": []
  }
 ],
 "metadata": {
  "kernelspec": {
   "display_name": "PythonData",
   "language": "python",
   "name": "pythondata"
  },
  "language_info": {
   "codemirror_mode": {
    "name": "ipython",
    "version": 3
   },
   "file_extension": ".py",
   "mimetype": "text/x-python",
   "name": "python",
   "nbconvert_exporter": "python",
   "pygments_lexer": "ipython3",
   "version": "3.7.7"
  }
 },
 "nbformat": 4,
 "nbformat_minor": 5
}
