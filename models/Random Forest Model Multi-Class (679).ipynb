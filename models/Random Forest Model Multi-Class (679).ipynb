{
 "cells": [
  {
   "cell_type": "code",
   "execution_count": 1,
   "id": "2208da5e",
   "metadata": {},
   "outputs": [],
   "source": [
    "import pandas as pd\n",
    "import matplotlib.pyplot as plt\n",
    "from sklearn.model_selection import train_test_split\n",
    "from sklearn.metrics import confusion_matrix, classification_report, accuracy_score\n",
    "from sklearn.ensemble import RandomForestClassifier\n",
    "import numpy as np"
   ]
  },
  {
   "cell_type": "code",
   "execution_count": 2,
   "id": "7bca0c36",
   "metadata": {},
   "outputs": [
    {
     "data": {
      "text/html": [
       "<div>\n",
       "<style scoped>\n",
       "    .dataframe tbody tr th:only-of-type {\n",
       "        vertical-align: middle;\n",
       "    }\n",
       "\n",
       "    .dataframe tbody tr th {\n",
       "        vertical-align: top;\n",
       "    }\n",
       "\n",
       "    .dataframe thead th {\n",
       "        text-align: right;\n",
       "    }\n",
       "</style>\n",
       "<table border=\"1\" class=\"dataframe\">\n",
       "  <thead>\n",
       "    <tr style=\"text-align: right;\">\n",
       "      <th></th>\n",
       "      <th>goals</th>\n",
       "      <th>shots</th>\n",
       "      <th>shot_percent</th>\n",
       "      <th>passes_made</th>\n",
       "      <th>pass_attempts</th>\n",
       "      <th>pass_percent</th>\n",
       "      <th>tackles_made</th>\n",
       "      <th>tackle_attempts</th>\n",
       "      <th>tackle_percent</th>\n",
       "      <th>red_cards</th>\n",
       "      <th>players_in_match</th>\n",
       "      <th>forwards</th>\n",
       "      <th>midfielders</th>\n",
       "      <th>defenders</th>\n",
       "      <th>goalkeeper</th>\n",
       "      <th>any</th>\n",
       "      <th>result</th>\n",
       "    </tr>\n",
       "  </thead>\n",
       "  <tbody>\n",
       "    <tr>\n",
       "      <th>0</th>\n",
       "      <td>1</td>\n",
       "      <td>6</td>\n",
       "      <td>0.17</td>\n",
       "      <td>95</td>\n",
       "      <td>125</td>\n",
       "      <td>0.76</td>\n",
       "      <td>18</td>\n",
       "      <td>49</td>\n",
       "      <td>0.37</td>\n",
       "      <td>0</td>\n",
       "      <td>8</td>\n",
       "      <td>2</td>\n",
       "      <td>3</td>\n",
       "      <td>3</td>\n",
       "      <td>0</td>\n",
       "      <td>0</td>\n",
       "      <td>1</td>\n",
       "    </tr>\n",
       "    <tr>\n",
       "      <th>1</th>\n",
       "      <td>5</td>\n",
       "      <td>13</td>\n",
       "      <td>0.38</td>\n",
       "      <td>92</td>\n",
       "      <td>120</td>\n",
       "      <td>0.77</td>\n",
       "      <td>13</td>\n",
       "      <td>29</td>\n",
       "      <td>0.45</td>\n",
       "      <td>0</td>\n",
       "      <td>8</td>\n",
       "      <td>2</td>\n",
       "      <td>3</td>\n",
       "      <td>3</td>\n",
       "      <td>0</td>\n",
       "      <td>0</td>\n",
       "      <td>2</td>\n",
       "    </tr>\n",
       "    <tr>\n",
       "      <th>2</th>\n",
       "      <td>1</td>\n",
       "      <td>7</td>\n",
       "      <td>0.14</td>\n",
       "      <td>99</td>\n",
       "      <td>124</td>\n",
       "      <td>0.80</td>\n",
       "      <td>17</td>\n",
       "      <td>65</td>\n",
       "      <td>0.26</td>\n",
       "      <td>0</td>\n",
       "      <td>10</td>\n",
       "      <td>2</td>\n",
       "      <td>4</td>\n",
       "      <td>4</td>\n",
       "      <td>0</td>\n",
       "      <td>0</td>\n",
       "      <td>0</td>\n",
       "    </tr>\n",
       "    <tr>\n",
       "      <th>3</th>\n",
       "      <td>1</td>\n",
       "      <td>11</td>\n",
       "      <td>0.09</td>\n",
       "      <td>154</td>\n",
       "      <td>195</td>\n",
       "      <td>0.79</td>\n",
       "      <td>16</td>\n",
       "      <td>41</td>\n",
       "      <td>0.39</td>\n",
       "      <td>0</td>\n",
       "      <td>11</td>\n",
       "      <td>2</td>\n",
       "      <td>4</td>\n",
       "      <td>4</td>\n",
       "      <td>1</td>\n",
       "      <td>0</td>\n",
       "      <td>1</td>\n",
       "    </tr>\n",
       "    <tr>\n",
       "      <th>4</th>\n",
       "      <td>3</td>\n",
       "      <td>13</td>\n",
       "      <td>0.23</td>\n",
       "      <td>118</td>\n",
       "      <td>145</td>\n",
       "      <td>0.81</td>\n",
       "      <td>10</td>\n",
       "      <td>43</td>\n",
       "      <td>0.23</td>\n",
       "      <td>0</td>\n",
       "      <td>10</td>\n",
       "      <td>2</td>\n",
       "      <td>4</td>\n",
       "      <td>4</td>\n",
       "      <td>0</td>\n",
       "      <td>0</td>\n",
       "      <td>2</td>\n",
       "    </tr>\n",
       "  </tbody>\n",
       "</table>\n",
       "</div>"
      ],
      "text/plain": [
       "   goals  shots  shot_percent  passes_made  pass_attempts  pass_percent  \\\n",
       "0      1      6          0.17           95            125          0.76   \n",
       "1      5     13          0.38           92            120          0.77   \n",
       "2      1      7          0.14           99            124          0.80   \n",
       "3      1     11          0.09          154            195          0.79   \n",
       "4      3     13          0.23          118            145          0.81   \n",
       "\n",
       "   tackles_made  tackle_attempts  tackle_percent  red_cards  players_in_match  \\\n",
       "0            18               49            0.37          0                 8   \n",
       "1            13               29            0.45          0                 8   \n",
       "2            17               65            0.26          0                10   \n",
       "3            16               41            0.39          0                11   \n",
       "4            10               43            0.23          0                10   \n",
       "\n",
       "   forwards  midfielders  defenders  goalkeeper  any  result  \n",
       "0         2            3          3           0    0       1  \n",
       "1         2            3          3           0    0       2  \n",
       "2         2            4          4           0    0       0  \n",
       "3         2            4          4           1    0       1  \n",
       "4         2            4          4           0    0       2  "
      ]
     },
     "execution_count": 2,
     "metadata": {},
     "output_type": "execute_result"
    }
   ],
   "source": [
    "# Import ML ready data. \n",
    "data = pd.read_csv('model_ready_match_data_multi_class.csv')\n",
    "data.head()"
   ]
  },
  {
   "cell_type": "code",
   "execution_count": 3,
   "id": "34a62acc",
   "metadata": {},
   "outputs": [],
   "source": [
    "# Split the Data into X, Y\n",
    "X = data.drop(\"result\", axis=1)\n",
    "y = data.result"
   ]
  },
  {
   "cell_type": "code",
   "execution_count": 4,
   "id": "a14c428b",
   "metadata": {},
   "outputs": [],
   "source": [
    "# Train Test Split\n",
    "X_train, X_test, y_train, y_test = train_test_split(X, y)"
   ]
  },
  {
   "cell_type": "code",
   "execution_count": 5,
   "id": "c9486399",
   "metadata": {},
   "outputs": [],
   "source": [
    "# Generate the Model\n",
    "classifier = RandomForestClassifier(n_estimators=500, criterion ='entropy', random_state = 1)"
   ]
  },
  {
   "cell_type": "code",
   "execution_count": 6,
   "id": "d083d36b",
   "metadata": {},
   "outputs": [
    {
     "data": {
      "text/plain": [
       "RandomForestClassifier(criterion='entropy', n_estimators=500, random_state=1)"
      ]
     },
     "execution_count": 6,
     "metadata": {},
     "output_type": "execute_result"
    }
   ],
   "source": [
    "# Train the model\n",
    "classifier.fit(X_train, y_train)"
   ]
  },
  {
   "cell_type": "code",
   "execution_count": 7,
   "id": "8f7f6a80",
   "metadata": {},
   "outputs": [
    {
     "data": {
      "text/plain": [
       "array([2, 2, 0, ..., 2, 0, 2], dtype=int64)"
      ]
     },
     "execution_count": 7,
     "metadata": {},
     "output_type": "execute_result"
    }
   ],
   "source": [
    "# Predict the test data\n",
    "y_pred = classifier.predict(X_test)\n",
    "y_pred"
   ]
  },
  {
   "cell_type": "code",
   "execution_count": 8,
   "id": "4d95993b",
   "metadata": {},
   "outputs": [
    {
     "name": "stdout",
     "output_type": "stream",
     "text": [
      "[[5202  303 1219]\n",
      " [1502  315 1109]\n",
      " [ 998  187 5740]]\n"
     ]
    }
   ],
   "source": [
    "# Generate confusion matrix\n",
    "cm = confusion_matrix(y_test, y_pred)\n",
    "print(cm)"
   ]
  },
  {
   "cell_type": "code",
   "execution_count": 9,
   "id": "a33818bf",
   "metadata": {},
   "outputs": [
    {
     "data": {
      "text/plain": [
       "0.6791553544494721"
      ]
     },
     "execution_count": 9,
     "metadata": {},
     "output_type": "execute_result"
    }
   ],
   "source": [
    "# Output Accuracy score\n",
    "accuracy_score(y_test, y_pred)"
   ]
  },
  {
   "cell_type": "code",
   "execution_count": 10,
   "id": "6952c453",
   "metadata": {},
   "outputs": [
    {
     "name": "stdout",
     "output_type": "stream",
     "text": [
      "              precision    recall  f1-score   support\n",
      "\n",
      "           0       0.68      0.77      0.72      6724\n",
      "           1       0.39      0.11      0.17      2926\n",
      "           2       0.71      0.83      0.77      6925\n",
      "\n",
      "    accuracy                           0.68     16575\n",
      "   macro avg       0.59      0.57      0.55     16575\n",
      "weighted avg       0.64      0.68      0.64     16575\n",
      "\n"
     ]
    }
   ],
   "source": [
    "# Print Classifcation report\n",
    "print(classification_report(y_test, y_pred))"
   ]
  },
  {
   "cell_type": "code",
   "execution_count": 11,
   "id": "a81a2d64",
   "metadata": {},
   "outputs": [
    {
     "data": {
      "text/plain": [
       "array([0.14795555, 0.06864816, 0.11801173, 0.09658849, 0.10484444,\n",
       "       0.08671479, 0.05467881, 0.08918318, 0.08260923, 0.00830015,\n",
       "       0.04036578, 0.03239389, 0.03711553, 0.0151157 , 0.00865387,\n",
       "       0.00882069])"
      ]
     },
     "execution_count": 11,
     "metadata": {},
     "output_type": "execute_result"
    }
   ],
   "source": [
    "# Generate the Feature importance\n",
    "classifier.feature_importances_"
   ]
  },
  {
   "cell_type": "code",
   "execution_count": 12,
   "id": "027f8f65",
   "metadata": {},
   "outputs": [
    {
     "data": {
      "image/png": "[encoded data removed]",
      "text/plain": [
       "<Figure size 576x432 with 1 Axes>"
      ]
     },
     "metadata": {
      "needs_background": "light"
     },
     "output_type": "display_data"
    }
   ],
   "source": [
    "# Generate bar graph of feature importance. \n",
    "importance = classifier.feature_importances_\n",
    "columns = X_train.columns\n",
    "combined_features = pd.Series(importance, columns)\n",
    "\n",
    "# sort the combined_features series in descending order\n",
    "combined_features_sorted = combined_features.sort_values(ascending=False)\n",
    "\n",
    "# plot the sorted series\n",
    "pandas_plot = combined_features_sorted.plot.bar(figsize=(8,6), color='b', fontsize = 12)\n",
    "plt.xlabel(\"columns\", fontsize = 12)\n",
    "plt.ylabel(\"importance\", fontsize = 12)\n",
    "plt.title(\"Important Contributors\", fontsize = 18)\n",
    "plt.tight_layout()\n",
    "plt.show()"
   ]
  },
  {
   "cell_type": "code",
   "execution_count": null,
   "id": "89ae11c9",
   "metadata": {},
   "outputs": [],
   "source": []
  }
 ],
 "metadata": {
  "kernelspec": {
   "display_name": "PythonData",
   "language": "python",
   "name": "pythondata"
  },
  "language_info": {
   "codemirror_mode": {
    "name": "ipython",
    "version": 3
   },
   "file_extension": ".py",
   "mimetype": "text/x-python",
   "name": "python",
   "nbconvert_exporter": "python",
   "pygments_lexer": "ipython3",
   "version": "3.7.7"
  }
 },
 "nbformat": 4,
 "nbformat_minor": 5
}
